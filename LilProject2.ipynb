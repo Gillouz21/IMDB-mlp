{
 "cells": [
  {
   "cell_type": "markdown",
   "metadata": {},
   "source": [
    "#  פרוייקטון 2 EDA #"
   ]
  },
  {
   "cell_type": "markdown",
   "metadata": {},
   "source": [
    "### ייבוא ספריות חשובות "
   ]
  },
  {
   "cell_type": "code",
   "execution_count": 1,
   "metadata": {},
   "outputs": [],
   "source": [
    "import numpy as np\n",
    "import pandas as pd\n",
    "import matplotlib.pyplot as plt\n",
    "import seaborn as sns\n",
    "%matplotlib inline\n",
    "from datetime import datetime\n",
    " \n",
    "\n",
    "import warnings\n",
    "warnings.filterwarnings('ignore')"
   ]
  },
  {
   "cell_type": "code",
   "execution_count": 2,
   "metadata": {},
   "outputs": [],
   "source": [
    "#import numpy as np\n",
    "#import pandas as pd \n",
    "#import matplotlib as plt"
   ]
  },
  {
   "cell_type": "markdown",
   "metadata": {},
   "source": [
    "### ייבוא מערך הנתונים"
   ]
  },
  {
   "cell_type": "code",
   "execution_count": 3,
   "metadata": {},
   "outputs": [],
   "source": [
    "imdb = pd.read_csv(\"D:\\בית ספר\\הנדסתו\\Projects\\LilProject2\\IMDb movies.csv\", low_memory = False)\n",
    "names = pd.read_csv(\"D:\\בית ספר\\הנדסתו\\Projects\\LilProject2\\IMDb names.csv\", low_memory = False)\n",
    "ratings = pd.read_csv(\"D:\\בית ספר\\הנדסתו\\Projects\\LilProject2\\IMDb ratings.csv\", low_memory =False)\n",
    "title = pd.read_csv(\"D:\\בית ספר\\הנדסתו\\Projects\\LilProject2\\IMDb title_principals.csv\", low_memory = False)"
   ]
  },
  {
   "cell_type": "markdown",
   "metadata": {},
   "source": [
    "## מיזוג טבלאות"
   ]
  },
  {
   "cell_type": "code",
   "execution_count": 4,
   "metadata": {},
   "outputs": [],
   "source": [
    "output1 = pd.merge(title,ratings, \n",
    "                   on='imdb_title_id', \n",
    "                   how='inner')"
   ]
  },
  {
   "cell_type": "code",
   "execution_count": 5,
   "metadata": {},
   "outputs": [],
   "source": [
    "output2 = pd.merge(output1, imdb,\n",
    "                  on = 'imdb_title_id',\n",
    "                  how = 'inner')"
   ]
  },
  {
   "cell_type": "code",
   "execution_count": 6,
   "metadata": {},
   "outputs": [
    {
     "name": "stdout",
     "output_type": "stream",
     "text": [
      "<class 'pandas.core.frame.DataFrame'>\n",
      "Int64Index: 835494 entries, 0 to 835493\n",
      "Data columns (total 75 columns):\n",
      " #   Column                     Non-Null Count   Dtype  \n",
      "---  ------                     --------------   -----  \n",
      " 0   imdb_title_id              835494 non-null  object \n",
      " 1   ordering                   835494 non-null  int64  \n",
      " 2   imdb_name_id               835494 non-null  object \n",
      " 3   category                   835494 non-null  object \n",
      " 4   job                        212726 non-null  object \n",
      " 5   characters                 340828 non-null  object \n",
      " 6   weighted_average_vote      835494 non-null  float64\n",
      " 7   total_votes                835494 non-null  int64  \n",
      " 8   mean_vote                  835494 non-null  float64\n",
      " 9   median_vote                835494 non-null  float64\n",
      " 10  votes_10                   835494 non-null  int64  \n",
      " 11  votes_9                    835494 non-null  int64  \n",
      " 12  votes_8                    835494 non-null  int64  \n",
      " 13  votes_7                    835494 non-null  int64  \n",
      " 14  votes_6                    835494 non-null  int64  \n",
      " 15  votes_5                    835494 non-null  int64  \n",
      " 16  votes_4                    835494 non-null  int64  \n",
      " 17  votes_3                    835494 non-null  int64  \n",
      " 18  votes_2                    835494 non-null  int64  \n",
      " 19  votes_1                    835494 non-null  int64  \n",
      " 20  allgenders_0age_avg_vote   327553 non-null  float64\n",
      " 21  allgenders_0age_votes      327553 non-null  float64\n",
      " 22  allgenders_18age_avg_vote  828617 non-null  float64\n",
      " 23  allgenders_18age_votes     828617 non-null  float64\n",
      " 24  allgenders_30age_avg_vote  835435 non-null  float64\n",
      " 25  allgenders_30age_votes     835435 non-null  float64\n",
      " 26  allgenders_45age_avg_vote  834769 non-null  float64\n",
      " 27  allgenders_45age_votes     834769 non-null  float64\n",
      " 28  males_allages_avg_vote     835486 non-null  float64\n",
      " 29  males_allages_votes        835486 non-null  float64\n",
      " 30  males_0age_avg_vote        269659 non-null  float64\n",
      " 31  males_0age_votes           269659 non-null  float64\n",
      " 32  males_18age_avg_vote       821233 non-null  float64\n",
      " 33  males_18age_votes          821233 non-null  float64\n",
      " 34  males_30age_avg_vote       835417 non-null  float64\n",
      " 35  males_30age_votes          835417 non-null  float64\n",
      " 36  males_45age_avg_vote       834576 non-null  float64\n",
      " 37  males_45age_votes          834576 non-null  float64\n",
      " 38  females_allages_avg_vote   834751 non-null  float64\n",
      " 39  females_allages_votes      834751 non-null  float64\n",
      " 40  females_0age_avg_vote      217926 non-null  float64\n",
      " 41  females_0age_votes         217926 non-null  float64\n",
      " 42  females_18age_avg_vote     772555 non-null  float64\n",
      " 43  females_18age_votes        772555 non-null  float64\n",
      " 44  females_30age_avg_vote     826645 non-null  float64\n",
      " 45  females_30age_votes        826645 non-null  float64\n",
      " 46  females_45age_avg_vote     809087 non-null  float64\n",
      " 47  females_45age_votes        809087 non-null  float64\n",
      " 48  top1000_voters_rating      829009 non-null  float64\n",
      " 49  top1000_voters_votes       829009 non-null  float64\n",
      " 50  us_voters_rating           833552 non-null  float64\n",
      " 51  us_voters_votes            833552 non-null  float64\n",
      " 52  non_us_voters_rating       835484 non-null  float64\n",
      " 53  non_us_voters_votes        835484 non-null  float64\n",
      " 54  title                      835494 non-null  object \n",
      " 55  original_title             835494 non-null  object \n",
      " 56  year                       835494 non-null  object \n",
      " 57  date_published             835494 non-null  object \n",
      " 58  genre                      835494 non-null  object \n",
      " 59  duration                   835494 non-null  int64  \n",
      " 60  country                    834952 non-null  object \n",
      " 61  language                   827692 non-null  object \n",
      " 62  director                   834944 non-null  object \n",
      " 63  writer                     821671 non-null  object \n",
      " 64  production_company         794231 non-null  object \n",
      " 65  actors                     835310 non-null  object \n",
      " 66  description                815102 non-null  object \n",
      " 67  avg_vote                   835494 non-null  float64\n",
      " 68  votes                      835494 non-null  int64  \n",
      " 69  budget                     230958 non-null  object \n",
      " 70  usa_gross_income           151680 non-null  object \n",
      " 71  worlwide_gross_income      305380 non-null  object \n",
      " 72  metascore                  131576 non-null  float64\n",
      " 73  reviews_from_users         762840 non-null  float64\n",
      " 74  reviews_from_critics       722788 non-null  float64\n",
      "dtypes: float64(41), int64(14), object(20)\n",
      "memory usage: 484.4+ MB\n"
     ]
    }
   ],
   "source": [
    "output2.info()"
   ]
  },
  {
   "cell_type": "markdown",
   "metadata": {},
   "source": [
    "## חקירה בסיסית על הנתונים"
   ]
  },
  {
   "cell_type": "markdown",
   "metadata": {},
   "source": [
    "* גודל המערך\n",
    "* ראש המערך\n",
    "* עמודות\n",
    "* סיכום בסיסי על הנתונים\n"
   ]
  },
  {
   "cell_type": "code",
   "execution_count": 7,
   "metadata": {},
   "outputs": [
    {
     "data": {
      "text/plain": [
       "(835494, 75)"
      ]
     },
     "execution_count": 7,
     "metadata": {},
     "output_type": "execute_result"
    }
   ],
   "source": [
    "output2.shape"
   ]
  },
  {
   "cell_type": "code",
   "execution_count": 8,
   "metadata": {},
   "outputs": [
    {
     "data": {
      "text/html": [
       "<div>\n",
       "<style scoped>\n",
       "    .dataframe tbody tr th:only-of-type {\n",
       "        vertical-align: middle;\n",
       "    }\n",
       "\n",
       "    .dataframe tbody tr th {\n",
       "        vertical-align: top;\n",
       "    }\n",
       "\n",
       "    .dataframe thead th {\n",
       "        text-align: right;\n",
       "    }\n",
       "</style>\n",
       "<table border=\"1\" class=\"dataframe\">\n",
       "  <thead>\n",
       "    <tr style=\"text-align: right;\">\n",
       "      <th></th>\n",
       "      <th>imdb_title_id</th>\n",
       "      <th>ordering</th>\n",
       "      <th>imdb_name_id</th>\n",
       "      <th>category</th>\n",
       "      <th>job</th>\n",
       "      <th>characters</th>\n",
       "      <th>weighted_average_vote</th>\n",
       "      <th>total_votes</th>\n",
       "      <th>mean_vote</th>\n",
       "      <th>median_vote</th>\n",
       "      <th>...</th>\n",
       "      <th>actors</th>\n",
       "      <th>description</th>\n",
       "      <th>avg_vote</th>\n",
       "      <th>votes</th>\n",
       "      <th>budget</th>\n",
       "      <th>usa_gross_income</th>\n",
       "      <th>worlwide_gross_income</th>\n",
       "      <th>metascore</th>\n",
       "      <th>reviews_from_users</th>\n",
       "      <th>reviews_from_critics</th>\n",
       "    </tr>\n",
       "  </thead>\n",
       "  <tbody>\n",
       "    <tr>\n",
       "      <th>0</th>\n",
       "      <td>tt0000009</td>\n",
       "      <td>1</td>\n",
       "      <td>nm0063086</td>\n",
       "      <td>actress</td>\n",
       "      <td>NaN</td>\n",
       "      <td>[\"Miss Geraldine Holbrook (Miss Jerry)\"]</td>\n",
       "      <td>5.9</td>\n",
       "      <td>154</td>\n",
       "      <td>5.9</td>\n",
       "      <td>6.0</td>\n",
       "      <td>...</td>\n",
       "      <td>Blanche Bayliss, William Courtenay, Chauncey D...</td>\n",
       "      <td>The adventures of a female reporter in the 1890s.</td>\n",
       "      <td>5.9</td>\n",
       "      <td>154</td>\n",
       "      <td>NaN</td>\n",
       "      <td>NaN</td>\n",
       "      <td>NaN</td>\n",
       "      <td>NaN</td>\n",
       "      <td>1.0</td>\n",
       "      <td>2.0</td>\n",
       "    </tr>\n",
       "    <tr>\n",
       "      <th>1</th>\n",
       "      <td>tt0000009</td>\n",
       "      <td>2</td>\n",
       "      <td>nm0183823</td>\n",
       "      <td>actor</td>\n",
       "      <td>NaN</td>\n",
       "      <td>[\"Mr. Hamilton\"]</td>\n",
       "      <td>5.9</td>\n",
       "      <td>154</td>\n",
       "      <td>5.9</td>\n",
       "      <td>6.0</td>\n",
       "      <td>...</td>\n",
       "      <td>Blanche Bayliss, William Courtenay, Chauncey D...</td>\n",
       "      <td>The adventures of a female reporter in the 1890s.</td>\n",
       "      <td>5.9</td>\n",
       "      <td>154</td>\n",
       "      <td>NaN</td>\n",
       "      <td>NaN</td>\n",
       "      <td>NaN</td>\n",
       "      <td>NaN</td>\n",
       "      <td>1.0</td>\n",
       "      <td>2.0</td>\n",
       "    </tr>\n",
       "    <tr>\n",
       "      <th>2</th>\n",
       "      <td>tt0000009</td>\n",
       "      <td>3</td>\n",
       "      <td>nm1309758</td>\n",
       "      <td>actor</td>\n",
       "      <td>NaN</td>\n",
       "      <td>[\"Chauncey Depew - the Director of the New Yor...</td>\n",
       "      <td>5.9</td>\n",
       "      <td>154</td>\n",
       "      <td>5.9</td>\n",
       "      <td>6.0</td>\n",
       "      <td>...</td>\n",
       "      <td>Blanche Bayliss, William Courtenay, Chauncey D...</td>\n",
       "      <td>The adventures of a female reporter in the 1890s.</td>\n",
       "      <td>5.9</td>\n",
       "      <td>154</td>\n",
       "      <td>NaN</td>\n",
       "      <td>NaN</td>\n",
       "      <td>NaN</td>\n",
       "      <td>NaN</td>\n",
       "      <td>1.0</td>\n",
       "      <td>2.0</td>\n",
       "    </tr>\n",
       "    <tr>\n",
       "      <th>3</th>\n",
       "      <td>tt0000009</td>\n",
       "      <td>4</td>\n",
       "      <td>nm0085156</td>\n",
       "      <td>director</td>\n",
       "      <td>NaN</td>\n",
       "      <td>NaN</td>\n",
       "      <td>5.9</td>\n",
       "      <td>154</td>\n",
       "      <td>5.9</td>\n",
       "      <td>6.0</td>\n",
       "      <td>...</td>\n",
       "      <td>Blanche Bayliss, William Courtenay, Chauncey D...</td>\n",
       "      <td>The adventures of a female reporter in the 1890s.</td>\n",
       "      <td>5.9</td>\n",
       "      <td>154</td>\n",
       "      <td>NaN</td>\n",
       "      <td>NaN</td>\n",
       "      <td>NaN</td>\n",
       "      <td>NaN</td>\n",
       "      <td>1.0</td>\n",
       "      <td>2.0</td>\n",
       "    </tr>\n",
       "    <tr>\n",
       "      <th>4</th>\n",
       "      <td>tt0000574</td>\n",
       "      <td>1</td>\n",
       "      <td>nm0846887</td>\n",
       "      <td>actress</td>\n",
       "      <td>NaN</td>\n",
       "      <td>[\"Kate Kelly\"]</td>\n",
       "      <td>6.1</td>\n",
       "      <td>589</td>\n",
       "      <td>6.3</td>\n",
       "      <td>6.0</td>\n",
       "      <td>...</td>\n",
       "      <td>Elizabeth Tait, John Tait, Norman Campbell, Be...</td>\n",
       "      <td>True story of notorious Australian outlaw Ned ...</td>\n",
       "      <td>6.1</td>\n",
       "      <td>589</td>\n",
       "      <td>$ 2250</td>\n",
       "      <td>NaN</td>\n",
       "      <td>NaN</td>\n",
       "      <td>NaN</td>\n",
       "      <td>7.0</td>\n",
       "      <td>7.0</td>\n",
       "    </tr>\n",
       "  </tbody>\n",
       "</table>\n",
       "<p>5 rows × 75 columns</p>\n",
       "</div>"
      ],
      "text/plain": [
       "  imdb_title_id  ordering imdb_name_id  category  job  \\\n",
       "0     tt0000009         1    nm0063086   actress  NaN   \n",
       "1     tt0000009         2    nm0183823     actor  NaN   \n",
       "2     tt0000009         3    nm1309758     actor  NaN   \n",
       "3     tt0000009         4    nm0085156  director  NaN   \n",
       "4     tt0000574         1    nm0846887   actress  NaN   \n",
       "\n",
       "                                          characters  weighted_average_vote  \\\n",
       "0           [\"Miss Geraldine Holbrook (Miss Jerry)\"]                    5.9   \n",
       "1                                   [\"Mr. Hamilton\"]                    5.9   \n",
       "2  [\"Chauncey Depew - the Director of the New Yor...                    5.9   \n",
       "3                                                NaN                    5.9   \n",
       "4                                     [\"Kate Kelly\"]                    6.1   \n",
       "\n",
       "   total_votes  mean_vote  median_vote  ...  \\\n",
       "0          154        5.9          6.0  ...   \n",
       "1          154        5.9          6.0  ...   \n",
       "2          154        5.9          6.0  ...   \n",
       "3          154        5.9          6.0  ...   \n",
       "4          589        6.3          6.0  ...   \n",
       "\n",
       "                                              actors  \\\n",
       "0  Blanche Bayliss, William Courtenay, Chauncey D...   \n",
       "1  Blanche Bayliss, William Courtenay, Chauncey D...   \n",
       "2  Blanche Bayliss, William Courtenay, Chauncey D...   \n",
       "3  Blanche Bayliss, William Courtenay, Chauncey D...   \n",
       "4  Elizabeth Tait, John Tait, Norman Campbell, Be...   \n",
       "\n",
       "                                         description  avg_vote  votes  budget  \\\n",
       "0  The adventures of a female reporter in the 1890s.       5.9    154     NaN   \n",
       "1  The adventures of a female reporter in the 1890s.       5.9    154     NaN   \n",
       "2  The adventures of a female reporter in the 1890s.       5.9    154     NaN   \n",
       "3  The adventures of a female reporter in the 1890s.       5.9    154     NaN   \n",
       "4  True story of notorious Australian outlaw Ned ...       6.1    589  $ 2250   \n",
       "\n",
       "   usa_gross_income  worlwide_gross_income  metascore  reviews_from_users  \\\n",
       "0               NaN                    NaN        NaN                 1.0   \n",
       "1               NaN                    NaN        NaN                 1.0   \n",
       "2               NaN                    NaN        NaN                 1.0   \n",
       "3               NaN                    NaN        NaN                 1.0   \n",
       "4               NaN                    NaN        NaN                 7.0   \n",
       "\n",
       "   reviews_from_critics  \n",
       "0                   2.0  \n",
       "1                   2.0  \n",
       "2                   2.0  \n",
       "3                   2.0  \n",
       "4                   7.0  \n",
       "\n",
       "[5 rows x 75 columns]"
      ]
     },
     "execution_count": 8,
     "metadata": {},
     "output_type": "execute_result"
    }
   ],
   "source": [
    "output2.head()"
   ]
  },
  {
   "cell_type": "code",
   "execution_count": 9,
   "metadata": {},
   "outputs": [
    {
     "data": {
      "text/plain": [
       "Index(['imdb_title_id', 'ordering', 'imdb_name_id', 'category', 'job',\n",
       "       'characters', 'weighted_average_vote', 'total_votes', 'mean_vote',\n",
       "       'median_vote', 'votes_10', 'votes_9', 'votes_8', 'votes_7', 'votes_6',\n",
       "       'votes_5', 'votes_4', 'votes_3', 'votes_2', 'votes_1',\n",
       "       'allgenders_0age_avg_vote', 'allgenders_0age_votes',\n",
       "       'allgenders_18age_avg_vote', 'allgenders_18age_votes',\n",
       "       'allgenders_30age_avg_vote', 'allgenders_30age_votes',\n",
       "       'allgenders_45age_avg_vote', 'allgenders_45age_votes',\n",
       "       'males_allages_avg_vote', 'males_allages_votes', 'males_0age_avg_vote',\n",
       "       'males_0age_votes', 'males_18age_avg_vote', 'males_18age_votes',\n",
       "       'males_30age_avg_vote', 'males_30age_votes', 'males_45age_avg_vote',\n",
       "       'males_45age_votes', 'females_allages_avg_vote',\n",
       "       'females_allages_votes', 'females_0age_avg_vote', 'females_0age_votes',\n",
       "       'females_18age_avg_vote', 'females_18age_votes',\n",
       "       'females_30age_avg_vote', 'females_30age_votes',\n",
       "       'females_45age_avg_vote', 'females_45age_votes',\n",
       "       'top1000_voters_rating', 'top1000_voters_votes', 'us_voters_rating',\n",
       "       'us_voters_votes', 'non_us_voters_rating', 'non_us_voters_votes',\n",
       "       'title', 'original_title', 'year', 'date_published', 'genre',\n",
       "       'duration', 'country', 'language', 'director', 'writer',\n",
       "       'production_company', 'actors', 'description', 'avg_vote', 'votes',\n",
       "       'budget', 'usa_gross_income', 'worlwide_gross_income', 'metascore',\n",
       "       'reviews_from_users', 'reviews_from_critics'],\n",
       "      dtype='object')"
      ]
     },
     "execution_count": 9,
     "metadata": {},
     "output_type": "execute_result"
    }
   ],
   "source": [
    "output2.columns"
   ]
  },
  {
   "cell_type": "code",
   "execution_count": 10,
   "metadata": {},
   "outputs": [
    {
     "name": "stdout",
     "output_type": "stream",
     "text": [
      "<class 'pandas.core.frame.DataFrame'>\n",
      "Int64Index: 835494 entries, 0 to 835493\n",
      "Data columns (total 75 columns):\n",
      " #   Column                     Non-Null Count   Dtype  \n",
      "---  ------                     --------------   -----  \n",
      " 0   imdb_title_id              835494 non-null  object \n",
      " 1   ordering                   835494 non-null  int64  \n",
      " 2   imdb_name_id               835494 non-null  object \n",
      " 3   category                   835494 non-null  object \n",
      " 4   job                        212726 non-null  object \n",
      " 5   characters                 340828 non-null  object \n",
      " 6   weighted_average_vote      835494 non-null  float64\n",
      " 7   total_votes                835494 non-null  int64  \n",
      " 8   mean_vote                  835494 non-null  float64\n",
      " 9   median_vote                835494 non-null  float64\n",
      " 10  votes_10                   835494 non-null  int64  \n",
      " 11  votes_9                    835494 non-null  int64  \n",
      " 12  votes_8                    835494 non-null  int64  \n",
      " 13  votes_7                    835494 non-null  int64  \n",
      " 14  votes_6                    835494 non-null  int64  \n",
      " 15  votes_5                    835494 non-null  int64  \n",
      " 16  votes_4                    835494 non-null  int64  \n",
      " 17  votes_3                    835494 non-null  int64  \n",
      " 18  votes_2                    835494 non-null  int64  \n",
      " 19  votes_1                    835494 non-null  int64  \n",
      " 20  allgenders_0age_avg_vote   327553 non-null  float64\n",
      " 21  allgenders_0age_votes      327553 non-null  float64\n",
      " 22  allgenders_18age_avg_vote  828617 non-null  float64\n",
      " 23  allgenders_18age_votes     828617 non-null  float64\n",
      " 24  allgenders_30age_avg_vote  835435 non-null  float64\n",
      " 25  allgenders_30age_votes     835435 non-null  float64\n",
      " 26  allgenders_45age_avg_vote  834769 non-null  float64\n",
      " 27  allgenders_45age_votes     834769 non-null  float64\n",
      " 28  males_allages_avg_vote     835486 non-null  float64\n",
      " 29  males_allages_votes        835486 non-null  float64\n",
      " 30  males_0age_avg_vote        269659 non-null  float64\n",
      " 31  males_0age_votes           269659 non-null  float64\n",
      " 32  males_18age_avg_vote       821233 non-null  float64\n",
      " 33  males_18age_votes          821233 non-null  float64\n",
      " 34  males_30age_avg_vote       835417 non-null  float64\n",
      " 35  males_30age_votes          835417 non-null  float64\n",
      " 36  males_45age_avg_vote       834576 non-null  float64\n",
      " 37  males_45age_votes          834576 non-null  float64\n",
      " 38  females_allages_avg_vote   834751 non-null  float64\n",
      " 39  females_allages_votes      834751 non-null  float64\n",
      " 40  females_0age_avg_vote      217926 non-null  float64\n",
      " 41  females_0age_votes         217926 non-null  float64\n",
      " 42  females_18age_avg_vote     772555 non-null  float64\n",
      " 43  females_18age_votes        772555 non-null  float64\n",
      " 44  females_30age_avg_vote     826645 non-null  float64\n",
      " 45  females_30age_votes        826645 non-null  float64\n",
      " 46  females_45age_avg_vote     809087 non-null  float64\n",
      " 47  females_45age_votes        809087 non-null  float64\n",
      " 48  top1000_voters_rating      829009 non-null  float64\n",
      " 49  top1000_voters_votes       829009 non-null  float64\n",
      " 50  us_voters_rating           833552 non-null  float64\n",
      " 51  us_voters_votes            833552 non-null  float64\n",
      " 52  non_us_voters_rating       835484 non-null  float64\n",
      " 53  non_us_voters_votes        835484 non-null  float64\n",
      " 54  title                      835494 non-null  object \n",
      " 55  original_title             835494 non-null  object \n",
      " 56  year                       835494 non-null  object \n",
      " 57  date_published             835494 non-null  object \n",
      " 58  genre                      835494 non-null  object \n",
      " 59  duration                   835494 non-null  int64  \n",
      " 60  country                    834952 non-null  object \n",
      " 61  language                   827692 non-null  object \n",
      " 62  director                   834944 non-null  object \n",
      " 63  writer                     821671 non-null  object \n",
      " 64  production_company         794231 non-null  object \n",
      " 65  actors                     835310 non-null  object \n",
      " 66  description                815102 non-null  object \n",
      " 67  avg_vote                   835494 non-null  float64\n",
      " 68  votes                      835494 non-null  int64  \n",
      " 69  budget                     230958 non-null  object \n",
      " 70  usa_gross_income           151680 non-null  object \n",
      " 71  worlwide_gross_income      305380 non-null  object \n",
      " 72  metascore                  131576 non-null  float64\n",
      " 73  reviews_from_users         762840 non-null  float64\n",
      " 74  reviews_from_critics       722788 non-null  float64\n",
      "dtypes: float64(41), int64(14), object(20)\n",
      "memory usage: 484.4+ MB\n"
     ]
    }
   ],
   "source": [
    "output2.info()"
   ]
  },
  {
   "cell_type": "markdown",
   "metadata": {},
   "source": [
    "## מכניס את כל העמודות הרלוונטיות למערך נתונים"
   ]
  },
  {
   "cell_type": "code",
   "execution_count": 11,
   "metadata": {},
   "outputs": [],
   "source": [
    "df = pd.DataFrame(output2 , columns = [ 'original_title', 'date_published','year', 'genre', 'duration', 'country',\n",
    "        'language','budget','total_votes',   'avg_vote'])"
   ]
  },
  {
   "cell_type": "code",
   "execution_count": 12,
   "metadata": {},
   "outputs": [],
   "source": [
    "df.set_index('original_title', inplace = True)"
   ]
  },
  {
   "cell_type": "markdown",
   "metadata": {},
   "source": [
    "##   מוציא את כל השורות הכפולות והשורות שבהן נתונים חסרים"
   ]
  },
  {
   "cell_type": "code",
   "execution_count": 13,
   "metadata": {},
   "outputs": [],
   "source": [
    "df = df.drop_duplicates()\n",
    "df = df.dropna(axis = 0)"
   ]
  },
  {
   "cell_type": "code",
   "execution_count": 14,
   "metadata": {},
   "outputs": [
    {
     "data": {
      "text/plain": [
       "(23574, 9)"
      ]
     },
     "execution_count": 14,
     "metadata": {},
     "output_type": "execute_result"
    }
   ],
   "source": [
    "df.shape"
   ]
  },
  {
   "cell_type": "code",
   "execution_count": 15,
   "metadata": {},
   "outputs": [
    {
     "data": {
      "text/html": [
       "<div>\n",
       "<style scoped>\n",
       "    .dataframe tbody tr th:only-of-type {\n",
       "        vertical-align: middle;\n",
       "    }\n",
       "\n",
       "    .dataframe tbody tr th {\n",
       "        vertical-align: top;\n",
       "    }\n",
       "\n",
       "    .dataframe thead th {\n",
       "        text-align: right;\n",
       "    }\n",
       "</style>\n",
       "<table border=\"1\" class=\"dataframe\">\n",
       "  <thead>\n",
       "    <tr style=\"text-align: right;\">\n",
       "      <th></th>\n",
       "      <th>date_published</th>\n",
       "      <th>year</th>\n",
       "      <th>genre</th>\n",
       "      <th>duration</th>\n",
       "      <th>country</th>\n",
       "      <th>language</th>\n",
       "      <th>budget</th>\n",
       "      <th>total_votes</th>\n",
       "      <th>avg_vote</th>\n",
       "    </tr>\n",
       "    <tr>\n",
       "      <th>original_title</th>\n",
       "      <th></th>\n",
       "      <th></th>\n",
       "      <th></th>\n",
       "      <th></th>\n",
       "      <th></th>\n",
       "      <th></th>\n",
       "      <th></th>\n",
       "      <th></th>\n",
       "      <th></th>\n",
       "    </tr>\n",
       "  </thead>\n",
       "  <tbody>\n",
       "    <tr>\n",
       "      <th>The Story of the Kelly Gang</th>\n",
       "      <td>1906-12-26</td>\n",
       "      <td>1906</td>\n",
       "      <td>Biography, Crime, Drama</td>\n",
       "      <td>70</td>\n",
       "      <td>Australia</td>\n",
       "      <td>None</td>\n",
       "      <td>$ 2250</td>\n",
       "      <td>589</td>\n",
       "      <td>6.1</td>\n",
       "    </tr>\n",
       "    <tr>\n",
       "      <th>Cleopatra</th>\n",
       "      <td>1912-11-13</td>\n",
       "      <td>1912</td>\n",
       "      <td>Drama, History</td>\n",
       "      <td>100</td>\n",
       "      <td>USA</td>\n",
       "      <td>English</td>\n",
       "      <td>$ 45000</td>\n",
       "      <td>446</td>\n",
       "      <td>5.2</td>\n",
       "    </tr>\n",
       "    <tr>\n",
       "      <th>Quo Vadis?</th>\n",
       "      <td>1913-03-01</td>\n",
       "      <td>1913</td>\n",
       "      <td>Drama, History</td>\n",
       "      <td>120</td>\n",
       "      <td>Italy</td>\n",
       "      <td>Italian</td>\n",
       "      <td>ITL 45000</td>\n",
       "      <td>273</td>\n",
       "      <td>6.2</td>\n",
       "    </tr>\n",
       "    <tr>\n",
       "      <th>Richard III</th>\n",
       "      <td>1912-10-15</td>\n",
       "      <td>1912</td>\n",
       "      <td>Drama</td>\n",
       "      <td>55</td>\n",
       "      <td>France, USA</td>\n",
       "      <td>English</td>\n",
       "      <td>$ 30000</td>\n",
       "      <td>225</td>\n",
       "      <td>5.5</td>\n",
       "    </tr>\n",
       "    <tr>\n",
       "      <th>Traffic in Souls</th>\n",
       "      <td>1913-11-24</td>\n",
       "      <td>1913</td>\n",
       "      <td>Crime, Drama</td>\n",
       "      <td>88</td>\n",
       "      <td>USA</td>\n",
       "      <td>English</td>\n",
       "      <td>$ 5700</td>\n",
       "      <td>552</td>\n",
       "      <td>6.0</td>\n",
       "    </tr>\n",
       "  </tbody>\n",
       "</table>\n",
       "</div>"
      ],
      "text/plain": [
       "                            date_published  year                    genre  \\\n",
       "original_title                                                              \n",
       "The Story of the Kelly Gang     1906-12-26  1906  Biography, Crime, Drama   \n",
       "Cleopatra                       1912-11-13  1912           Drama, History   \n",
       "Quo Vadis?                      1913-03-01  1913           Drama, History   \n",
       "Richard III                     1912-10-15  1912                    Drama   \n",
       "Traffic in Souls                1913-11-24  1913             Crime, Drama   \n",
       "\n",
       "                             duration      country language     budget  \\\n",
       "original_title                                                           \n",
       "The Story of the Kelly Gang        70    Australia     None     $ 2250   \n",
       "Cleopatra                         100          USA  English    $ 45000   \n",
       "Quo Vadis?                        120        Italy  Italian  ITL 45000   \n",
       "Richard III                        55  France, USA  English    $ 30000   \n",
       "Traffic in Souls                   88          USA  English     $ 5700   \n",
       "\n",
       "                             total_votes  avg_vote  \n",
       "original_title                                      \n",
       "The Story of the Kelly Gang          589       6.1  \n",
       "Cleopatra                            446       5.2  \n",
       "Quo Vadis?                           273       6.2  \n",
       "Richard III                          225       5.5  \n",
       "Traffic in Souls                     552       6.0  "
      ]
     },
     "execution_count": 15,
     "metadata": {},
     "output_type": "execute_result"
    }
   ],
   "source": [
    "df.head()"
   ]
  },
  {
   "cell_type": "markdown",
   "metadata": {},
   "source": [
    "# שינוי טיפוס הנתונים כדי שנוכל לטפל בהם"
   ]
  },
  {
   "cell_type": "markdown",
   "metadata": {},
   "source": [
    "### תאריך הוצאה:"
   ]
  },
  {
   "cell_type": "code",
   "execution_count": 16,
   "metadata": {},
   "outputs": [],
   "source": [
    "df['length'] = df.date_published.str.len()\n",
    "df = df[df.length == 10]\n",
    "del df['length']"
   ]
  },
  {
   "cell_type": "code",
   "execution_count": 17,
   "metadata": {},
   "outputs": [],
   "source": [
    "for i in range(df.shape[0]):\n",
    "    df['date_published'].iloc[i] = df['date_published'].iloc[i][5:]"
   ]
  },
  {
   "cell_type": "code",
   "execution_count": 18,
   "metadata": {},
   "outputs": [],
   "source": [
    "df[['month', 'day']] = df.date_published.str.split(\"-\",expand=True,)\n",
    "del df['date_published']"
   ]
  },
  {
   "cell_type": "code",
   "execution_count": 19,
   "metadata": {},
   "outputs": [],
   "source": [
    "df['day'] = df['day'].astype(int)\n",
    "df['month'] = df['month'].astype(int)\n",
    "df['year'] = df['year'].astype(int)"
   ]
  },
  {
   "cell_type": "code",
   "execution_count": 20,
   "metadata": {},
   "outputs": [
    {
     "data": {
      "text/html": [
       "<div>\n",
       "<style scoped>\n",
       "    .dataframe tbody tr th:only-of-type {\n",
       "        vertical-align: middle;\n",
       "    }\n",
       "\n",
       "    .dataframe tbody tr th {\n",
       "        vertical-align: top;\n",
       "    }\n",
       "\n",
       "    .dataframe thead th {\n",
       "        text-align: right;\n",
       "    }\n",
       "</style>\n",
       "<table border=\"1\" class=\"dataframe\">\n",
       "  <thead>\n",
       "    <tr style=\"text-align: right;\">\n",
       "      <th></th>\n",
       "      <th>year</th>\n",
       "      <th>genre</th>\n",
       "      <th>duration</th>\n",
       "      <th>country</th>\n",
       "      <th>language</th>\n",
       "      <th>budget</th>\n",
       "      <th>total_votes</th>\n",
       "      <th>avg_vote</th>\n",
       "      <th>month</th>\n",
       "      <th>day</th>\n",
       "    </tr>\n",
       "    <tr>\n",
       "      <th>original_title</th>\n",
       "      <th></th>\n",
       "      <th></th>\n",
       "      <th></th>\n",
       "      <th></th>\n",
       "      <th></th>\n",
       "      <th></th>\n",
       "      <th></th>\n",
       "      <th></th>\n",
       "      <th></th>\n",
       "      <th></th>\n",
       "    </tr>\n",
       "  </thead>\n",
       "  <tbody>\n",
       "    <tr>\n",
       "      <th>The Story of the Kelly Gang</th>\n",
       "      <td>1906</td>\n",
       "      <td>Biography, Crime, Drama</td>\n",
       "      <td>70</td>\n",
       "      <td>Australia</td>\n",
       "      <td>None</td>\n",
       "      <td>$ 2250</td>\n",
       "      <td>589</td>\n",
       "      <td>6.1</td>\n",
       "      <td>12</td>\n",
       "      <td>26</td>\n",
       "    </tr>\n",
       "    <tr>\n",
       "      <th>Cleopatra</th>\n",
       "      <td>1912</td>\n",
       "      <td>Drama, History</td>\n",
       "      <td>100</td>\n",
       "      <td>USA</td>\n",
       "      <td>English</td>\n",
       "      <td>$ 45000</td>\n",
       "      <td>446</td>\n",
       "      <td>5.2</td>\n",
       "      <td>11</td>\n",
       "      <td>13</td>\n",
       "    </tr>\n",
       "    <tr>\n",
       "      <th>Quo Vadis?</th>\n",
       "      <td>1913</td>\n",
       "      <td>Drama, History</td>\n",
       "      <td>120</td>\n",
       "      <td>Italy</td>\n",
       "      <td>Italian</td>\n",
       "      <td>ITL 45000</td>\n",
       "      <td>273</td>\n",
       "      <td>6.2</td>\n",
       "      <td>3</td>\n",
       "      <td>1</td>\n",
       "    </tr>\n",
       "    <tr>\n",
       "      <th>Richard III</th>\n",
       "      <td>1912</td>\n",
       "      <td>Drama</td>\n",
       "      <td>55</td>\n",
       "      <td>France, USA</td>\n",
       "      <td>English</td>\n",
       "      <td>$ 30000</td>\n",
       "      <td>225</td>\n",
       "      <td>5.5</td>\n",
       "      <td>10</td>\n",
       "      <td>15</td>\n",
       "    </tr>\n",
       "    <tr>\n",
       "      <th>Traffic in Souls</th>\n",
       "      <td>1913</td>\n",
       "      <td>Crime, Drama</td>\n",
       "      <td>88</td>\n",
       "      <td>USA</td>\n",
       "      <td>English</td>\n",
       "      <td>$ 5700</td>\n",
       "      <td>552</td>\n",
       "      <td>6.0</td>\n",
       "      <td>11</td>\n",
       "      <td>24</td>\n",
       "    </tr>\n",
       "  </tbody>\n",
       "</table>\n",
       "</div>"
      ],
      "text/plain": [
       "                             year                    genre  duration  \\\n",
       "original_title                                                         \n",
       "The Story of the Kelly Gang  1906  Biography, Crime, Drama        70   \n",
       "Cleopatra                    1912           Drama, History       100   \n",
       "Quo Vadis?                   1913           Drama, History       120   \n",
       "Richard III                  1912                    Drama        55   \n",
       "Traffic in Souls             1913             Crime, Drama        88   \n",
       "\n",
       "                                 country language     budget  total_votes  \\\n",
       "original_title                                                              \n",
       "The Story of the Kelly Gang    Australia     None     $ 2250          589   \n",
       "Cleopatra                            USA  English    $ 45000          446   \n",
       "Quo Vadis?                         Italy  Italian  ITL 45000          273   \n",
       "Richard III                  France, USA  English    $ 30000          225   \n",
       "Traffic in Souls                     USA  English     $ 5700          552   \n",
       "\n",
       "                             avg_vote  month  day  \n",
       "original_title                                     \n",
       "The Story of the Kelly Gang       6.1     12   26  \n",
       "Cleopatra                         5.2     11   13  \n",
       "Quo Vadis?                        6.2      3    1  \n",
       "Richard III                       5.5     10   15  \n",
       "Traffic in Souls                  6.0     11   24  "
      ]
     },
     "execution_count": 20,
     "metadata": {},
     "output_type": "execute_result"
    }
   ],
   "source": [
    "df.head()"
   ]
  },
  {
   "cell_type": "markdown",
   "metadata": {},
   "source": [
    "### ז'אנרים:"
   ]
  },
  {
   "cell_type": "code",
   "execution_count": 21,
   "metadata": {},
   "outputs": [],
   "source": [
    "genres = df['genre'].str.get_dummies(sep = ', ')\n",
    "df[genres.columns] = genres\n",
    "df.drop('genre', axis = 1, inplace = True)"
   ]
  },
  {
   "cell_type": "markdown",
   "metadata": {},
   "source": [
    "### שפות:\n"
   ]
  },
  {
   "cell_type": "code",
   "execution_count": 22,
   "metadata": {},
   "outputs": [],
   "source": [
    "languages = df['language'].str.get_dummies(sep = ', ')\n",
    "df[languages.columns] = languages\n",
    "df.drop('language', axis = 1, inplace = True)"
   ]
  },
  {
   "cell_type": "markdown",
   "metadata": {},
   "source": [
    "### :ארץ מוצא"
   ]
  },
  {
   "cell_type": "code",
   "execution_count": 23,
   "metadata": {},
   "outputs": [],
   "source": [
    "countries = df['country'].str.get_dummies(sep = ', ')\n",
    "df[countries.columns] = countries\n",
    "df.drop('country', axis = 1, inplace = True)"
   ]
  },
  {
   "cell_type": "markdown",
   "metadata": {},
   "source": [
    "### תקציב:"
   ]
  },
  {
   "cell_type": "markdown",
   "metadata": {},
   "source": [
    "הצגת כל התקציבים במטבע הדולר"
   ]
  },
  {
   "cell_type": "code",
   "execution_count": 24,
   "metadata": {},
   "outputs": [],
   "source": [
    "df['budget'] = df['budget'].str.replace('$',\"USD\")\n",
    "df['currency'] = df['budget']"
   ]
  },
  {
   "cell_type": "code",
   "execution_count": 25,
   "metadata": {},
   "outputs": [],
   "source": [
    "for k in range(df.shape[0]):\n",
    "    df['currency'].iloc[k] = ' '.join([i for i in df['currency'].iloc[k] if not i.isdigit()])\n",
    "    df['budget'].iloc[k] = ' '.join(c for c in df['budget'].iloc[k] if c.isdigit())\n",
    " "
   ]
  },
  {
   "cell_type": "code",
   "execution_count": 26,
   "metadata": {},
   "outputs": [],
   "source": [
    "df['budget'] = df['budget'].str.replace(\" \",\"\")\n",
    "df['currency'] = df['currency'].str.replace(\" \",\"\")"
   ]
  },
  {
   "cell_type": "code",
   "execution_count": 27,
   "metadata": {},
   "outputs": [],
   "source": [
    "df['budget'] = df['budget'].astype(np.int64)"
   ]
  },
  {
   "cell_type": "code",
   "execution_count": 28,
   "metadata": {},
   "outputs": [
    {
     "data": {
      "text/html": [
       "<div>\n",
       "<style scoped>\n",
       "    .dataframe tbody tr th:only-of-type {\n",
       "        vertical-align: middle;\n",
       "    }\n",
       "\n",
       "    .dataframe tbody tr th {\n",
       "        vertical-align: top;\n",
       "    }\n",
       "\n",
       "    .dataframe thead th {\n",
       "        text-align: right;\n",
       "    }\n",
       "</style>\n",
       "<table border=\"1\" class=\"dataframe\">\n",
       "  <thead>\n",
       "    <tr style=\"text-align: right;\">\n",
       "      <th></th>\n",
       "      <th>budget</th>\n",
       "      <th>currency</th>\n",
       "    </tr>\n",
       "    <tr>\n",
       "      <th>original_title</th>\n",
       "      <th></th>\n",
       "      <th></th>\n",
       "    </tr>\n",
       "  </thead>\n",
       "  <tbody>\n",
       "    <tr>\n",
       "      <th>The Story of the Kelly Gang</th>\n",
       "      <td>2250</td>\n",
       "      <td>USD</td>\n",
       "    </tr>\n",
       "    <tr>\n",
       "      <th>Cleopatra</th>\n",
       "      <td>45000</td>\n",
       "      <td>USD</td>\n",
       "    </tr>\n",
       "    <tr>\n",
       "      <th>Quo Vadis?</th>\n",
       "      <td>45000</td>\n",
       "      <td>ITL</td>\n",
       "    </tr>\n",
       "    <tr>\n",
       "      <th>Richard III</th>\n",
       "      <td>30000</td>\n",
       "      <td>USD</td>\n",
       "    </tr>\n",
       "    <tr>\n",
       "      <th>Traffic in Souls</th>\n",
       "      <td>5700</td>\n",
       "      <td>USD</td>\n",
       "    </tr>\n",
       "    <tr>\n",
       "      <th>...</th>\n",
       "      <td>...</td>\n",
       "      <td>...</td>\n",
       "    </tr>\n",
       "    <tr>\n",
       "      <th>No Dorai</th>\n",
       "      <td>1250000</td>\n",
       "      <td>USD</td>\n",
       "    </tr>\n",
       "    <tr>\n",
       "      <th>Upin &amp; Ipin: Keris Siamang Tunggal</th>\n",
       "      <td>20000000</td>\n",
       "      <td>MYR</td>\n",
       "    </tr>\n",
       "    <tr>\n",
       "      <th>Kaithi</th>\n",
       "      <td>240000000</td>\n",
       "      <td>INR</td>\n",
       "    </tr>\n",
       "    <tr>\n",
       "      <th>Ottam</th>\n",
       "      <td>4000000</td>\n",
       "      <td>INR</td>\n",
       "    </tr>\n",
       "    <tr>\n",
       "      <th>Pengalila</th>\n",
       "      <td>10000000</td>\n",
       "      <td>INR</td>\n",
       "    </tr>\n",
       "  </tbody>\n",
       "</table>\n",
       "<p>22913 rows × 2 columns</p>\n",
       "</div>"
      ],
      "text/plain": [
       "                                       budget currency\n",
       "original_title                                        \n",
       "The Story of the Kelly Gang              2250      USD\n",
       "Cleopatra                               45000      USD\n",
       "Quo Vadis?                              45000      ITL\n",
       "Richard III                             30000      USD\n",
       "Traffic in Souls                         5700      USD\n",
       "...                                       ...      ...\n",
       "No Dorai                              1250000      USD\n",
       "Upin & Ipin: Keris Siamang Tunggal   20000000      MYR\n",
       "Kaithi                              240000000      INR\n",
       "Ottam                                 4000000      INR\n",
       "Pengalila                            10000000      INR\n",
       "\n",
       "[22913 rows x 2 columns]"
      ]
     },
     "execution_count": 28,
     "metadata": {},
     "output_type": "execute_result"
    }
   ],
   "source": [
    "df[['budget','currency']]"
   ]
  },
  {
   "cell_type": "markdown",
   "metadata": {},
   "source": [
    "### המרת כל התקציבים לדולרים"
   ]
  },
  {
   "cell_type": "code",
   "execution_count": 29,
   "metadata": {},
   "outputs": [],
   "source": [
    "currency_str ='{\"USD\":1,\"AED\":3.67,\"AFN\":90.44,\"ALL\":105.13,\"AMD\":477.45,\"ANG\":1.79,\"AOA\":600.73,\"ARS\":99.63,\"AUD\":1.33,\"AWG\":1.79,\"AZN\":1.7,\"BAM\":1.68,\"BBD\":2,\"BDT\":85.59,\"BGN\":1.68,\"BHD\":0.376,\"BIF\":1985.95,\"BMD\":1,\"BND\":1.35,\"BOB\":6.88,\"BRL\":5.63,\"BSD\":1,\"BTN\":74.87,\"BWP\":11.37,\"BYN\":2.42,\"BZD\":2,\"CAD\":1.23,\"CDF\":1986.27,\"CHF\":0.914,\"CLP\":806.14,\"CNY\":6.4,\"COP\":3787.71,\"CRC\":630.85,\"CUC\":1,\"CUP\":25,\"CVE\":94.84,\"CZK\":22.15,\"DJF\":177.72,\"DKK\":6.42,\"DOP\":56.39,\"DZD\":136.96,\"EGP\":15.7,\"ERN\":15,\"ETB\":47.36,\"EUR\":0.86,\"FJD\":2.06,\"FKP\":0.727,\"FOK\":6.42,\"GBP\":0.727,\"GEL\":3.15,\"GGP\":0.727,\"GHS\":6.08,\"GIP\":0.727,\"GMD\":52.56,\"GNF\":9633.16,\"GTQ\":7.74,\"GYD\":209.24,\"HKD\":7.78,\"HNL\":24.14,\"HRK\":6.48,\"HTG\":99.47,\"HUF\":311.16,\"IDR\":14157.02,\"ILS\":3.17,\"IMP\":0.727,\"INR\":74.87,\"IQD\":1458.93,\"IRR\":41878.05,\"ISK\":128.51,\"JMD\":154.28,\"JOD\":0.709,\"JPY\":113.9,\"KES\":111.13,\"KGS\":84.78,\"KHR\":4072.15,\"KID\":1.33,\"KMF\":423.13,\"KRW\":1171.4,\"KWD\":0.3,\"KYD\":0.833,\"KZT\":427.6,\"LAK\":10210.42,\"LBP\":1507.5,\"LKR\":200.95,\"LRD\":152.07,\"LSL\":15.21,\"LYD\":4.55,\"MAD\":9.05,\"MDL\":17.48,\"MGA\":3977.37,\"MKD\":53.03,\"MMK\":1832.06,\"MNT\":2856.06,\"MOP\":8.01,\"MRU\":36.2,\"MUR\":42.93,\"MVR\":15.41,\"MWK\":814.7,\"MXN\":20.53,\"MYR\":4.14,\"MZN\":64.03,\"NAD\":15.21,\"NGN\":421.53,\"NIO\":35.15,\"NOK\":8.41,\"NPR\":119.8,\"NZD\":1.4,\"OMR\":0.384,\"PAB\":1,\"PEN\":3.99,\"PGK\":3.51,\"PHP\":50.5,\"PKR\":172.01,\"PLN\":3.98,\"PYG\":6868.48,\"QAR\":3.64,\"RON\":4.25,\"RSD\":101.13,\"RUB\":70.67,\"RWF\":1018,\"SAR\":3.75,\"SBD\":7.94,\"SCR\":13.52,\"SDG\":442.05,\"SEK\":8.57,\"SGD\":1.35,\"SHP\":0.727,\"SLL\":10781.83,\"SOS\":578.61,\"SRD\":21.53,\"SSP\":301.48,\"STN\":21.07,\"SYP\":1736.82,\"SZL\":15.21,\"THB\":33.35,\"TJS\":11.24,\"TMT\":3.5,\"TND\":2.82,\"TOP\":2.23,\"TRY\":9.59,\"TTD\":6.77,\"TVD\":1.33,\"TWD\":27.81,\"TZS\":2302.85,\"UAH\":26.29,\"UGX\":3553,\"UYU\":43.58,\"UZS\":10659.34,\"VES\":4.35,\"VND\":22728.13,\"VUV\":109.74,\"WST\":2.53,\"XAF\":564.18,\"XCD\":2.7,\"XDR\":0.705,\"XOF\":564.18,\"XPF\":102.64,\"YER\":250.35,\"ZAR\":15.21,\"ZMW\":17.2}}'"
   ]
  },
  {
   "cell_type": "markdown",
   "metadata": {},
   "source": [
    "### מציאת כל סוגי המטבעות שקיימים במערך הנתונים "
   ]
  },
  {
   "cell_type": "code",
   "execution_count": 30,
   "metadata": {},
   "outputs": [
    {
     "data": {
      "text/plain": [
       "array(['USD', 'ITL', 'FRF', 'GBP', 'DEM', 'PTE', 'SEK', 'FIM', 'CAD',\n",
       "       'CHF', 'INR', 'ESP', 'JPY', 'DKK', 'NLG', 'PLN', 'ROL', 'RUR',\n",
       "       'AUD', 'BEF', 'XAU', 'HKD', 'NZD', 'CNY', 'EUR', 'PYG', 'ISK',\n",
       "       'NOK', 'IEP', 'TRL', 'SIT', 'PHP', 'HRK', 'HUF', 'DOP', 'JMD',\n",
       "       'CZK', 'SGD', 'BRL', 'BDT', 'ATS', 'KRW', 'BND', 'EGP', 'THB',\n",
       "       'GRD', 'ZAR', 'NPR', 'IDR', 'PKR', 'MXN', 'BGL', 'EEK', 'YUM',\n",
       "       'MYR', 'IRR', 'CLP', 'SKK', 'LTL', 'TWD', 'MTL', 'LVL', 'COP',\n",
       "       'ARS', 'UAH', 'RON', 'ALL', 'NGN', 'ILS', 'VEB', 'VND', 'TTD',\n",
       "       'JOD', 'LKR', 'GEL', 'MNT', 'AZM', 'AMD', 'AED'], dtype=object)"
      ]
     },
     "execution_count": 30,
     "metadata": {},
     "output_type": "execute_result"
    }
   ],
   "source": [
    "a = df['currency'].unique()\n",
    "a"
   ]
  },
  {
   "cell_type": "markdown",
   "metadata": {},
   "source": [
    "### הורדת כל סוגי המטבעות שלא נמצאים במילון של ערכי המטבעות השונים בהתאם לדולר (currency_str)"
   ]
  },
  {
   "cell_type": "code",
   "execution_count": 31,
   "metadata": {},
   "outputs": [],
   "source": [
    "for i in range(len(a)):\n",
    "    if a[i] not in currency_str:\n",
    "        df.drop(df[df['currency'] == a[i]].index, inplace =True)"
   ]
  },
  {
   "cell_type": "code",
   "execution_count": 32,
   "metadata": {},
   "outputs": [
    {
     "data": {
      "text/plain": [
       "array(['USD', 'GBP', 'SEK', 'CAD', 'CHF', 'INR', 'JPY', 'DKK', 'PLN',\n",
       "       'AUD', 'HKD', 'NZD', 'CNY', 'EUR', 'PYG', 'ISK', 'NOK', 'PHP',\n",
       "       'HRK', 'HUF', 'DOP', 'JMD', 'CZK', 'SGD', 'BRL', 'BDT', 'KRW',\n",
       "       'BND', 'EGP', 'THB', 'ZAR', 'NPR', 'IDR', 'PKR', 'MXN', 'MYR',\n",
       "       'IRR', 'CLP', 'TWD', 'COP', 'ARS', 'UAH', 'RON', 'ALL', 'NGN',\n",
       "       'ILS', 'VND', 'TTD', 'JOD', 'LKR', 'GEL', 'MNT', 'AMD', 'AED'],\n",
       "      dtype=object)"
      ]
     },
     "execution_count": 32,
     "metadata": {},
     "output_type": "execute_result"
    }
   ],
   "source": [
    "a = df['currency'].unique()\n",
    "a"
   ]
  },
  {
   "cell_type": "code",
   "execution_count": 33,
   "metadata": {},
   "outputs": [
    {
     "data": {
      "text/html": [
       "<div>\n",
       "<style scoped>\n",
       "    .dataframe tbody tr th:only-of-type {\n",
       "        vertical-align: middle;\n",
       "    }\n",
       "\n",
       "    .dataframe tbody tr th {\n",
       "        vertical-align: top;\n",
       "    }\n",
       "\n",
       "    .dataframe thead th {\n",
       "        text-align: right;\n",
       "    }\n",
       "</style>\n",
       "<table border=\"1\" class=\"dataframe\">\n",
       "  <thead>\n",
       "    <tr style=\"text-align: right;\">\n",
       "      <th></th>\n",
       "      <th>year</th>\n",
       "      <th>duration</th>\n",
       "      <th>budget</th>\n",
       "      <th>total_votes</th>\n",
       "      <th>avg_vote</th>\n",
       "      <th>month</th>\n",
       "      <th>day</th>\n",
       "      <th>Action</th>\n",
       "      <th>Adventure</th>\n",
       "      <th>Animation</th>\n",
       "      <th>...</th>\n",
       "      <th>Ukraine</th>\n",
       "      <th>United Arab Emirates</th>\n",
       "      <th>Uruguay</th>\n",
       "      <th>Uzbekistan</th>\n",
       "      <th>Venezuela</th>\n",
       "      <th>Vietnam</th>\n",
       "      <th>West Germany</th>\n",
       "      <th>Yemen</th>\n",
       "      <th>Yugoslavia</th>\n",
       "      <th>currency</th>\n",
       "    </tr>\n",
       "    <tr>\n",
       "      <th>original_title</th>\n",
       "      <th></th>\n",
       "      <th></th>\n",
       "      <th></th>\n",
       "      <th></th>\n",
       "      <th></th>\n",
       "      <th></th>\n",
       "      <th></th>\n",
       "      <th></th>\n",
       "      <th></th>\n",
       "      <th></th>\n",
       "      <th></th>\n",
       "      <th></th>\n",
       "      <th></th>\n",
       "      <th></th>\n",
       "      <th></th>\n",
       "      <th></th>\n",
       "      <th></th>\n",
       "      <th></th>\n",
       "      <th></th>\n",
       "      <th></th>\n",
       "      <th></th>\n",
       "    </tr>\n",
       "  </thead>\n",
       "  <tbody>\n",
       "    <tr>\n",
       "      <th>The Story of the Kelly Gang</th>\n",
       "      <td>1906</td>\n",
       "      <td>70</td>\n",
       "      <td>2250</td>\n",
       "      <td>589</td>\n",
       "      <td>6.1</td>\n",
       "      <td>12</td>\n",
       "      <td>26</td>\n",
       "      <td>0</td>\n",
       "      <td>0</td>\n",
       "      <td>0</td>\n",
       "      <td>...</td>\n",
       "      <td>0</td>\n",
       "      <td>0</td>\n",
       "      <td>0</td>\n",
       "      <td>0</td>\n",
       "      <td>0</td>\n",
       "      <td>0</td>\n",
       "      <td>0</td>\n",
       "      <td>0</td>\n",
       "      <td>0</td>\n",
       "      <td>USD</td>\n",
       "    </tr>\n",
       "    <tr>\n",
       "      <th>Cleopatra</th>\n",
       "      <td>1912</td>\n",
       "      <td>100</td>\n",
       "      <td>45000</td>\n",
       "      <td>446</td>\n",
       "      <td>5.2</td>\n",
       "      <td>11</td>\n",
       "      <td>13</td>\n",
       "      <td>0</td>\n",
       "      <td>0</td>\n",
       "      <td>0</td>\n",
       "      <td>...</td>\n",
       "      <td>0</td>\n",
       "      <td>0</td>\n",
       "      <td>0</td>\n",
       "      <td>0</td>\n",
       "      <td>0</td>\n",
       "      <td>0</td>\n",
       "      <td>0</td>\n",
       "      <td>0</td>\n",
       "      <td>0</td>\n",
       "      <td>USD</td>\n",
       "    </tr>\n",
       "    <tr>\n",
       "      <th>Richard III</th>\n",
       "      <td>1912</td>\n",
       "      <td>55</td>\n",
       "      <td>30000</td>\n",
       "      <td>225</td>\n",
       "      <td>5.5</td>\n",
       "      <td>10</td>\n",
       "      <td>15</td>\n",
       "      <td>0</td>\n",
       "      <td>0</td>\n",
       "      <td>0</td>\n",
       "      <td>...</td>\n",
       "      <td>0</td>\n",
       "      <td>0</td>\n",
       "      <td>0</td>\n",
       "      <td>0</td>\n",
       "      <td>0</td>\n",
       "      <td>0</td>\n",
       "      <td>0</td>\n",
       "      <td>0</td>\n",
       "      <td>0</td>\n",
       "      <td>USD</td>\n",
       "    </tr>\n",
       "    <tr>\n",
       "      <th>Traffic in Souls</th>\n",
       "      <td>1913</td>\n",
       "      <td>88</td>\n",
       "      <td>5700</td>\n",
       "      <td>552</td>\n",
       "      <td>6.0</td>\n",
       "      <td>11</td>\n",
       "      <td>24</td>\n",
       "      <td>0</td>\n",
       "      <td>0</td>\n",
       "      <td>0</td>\n",
       "      <td>...</td>\n",
       "      <td>0</td>\n",
       "      <td>0</td>\n",
       "      <td>0</td>\n",
       "      <td>0</td>\n",
       "      <td>0</td>\n",
       "      <td>0</td>\n",
       "      <td>0</td>\n",
       "      <td>0</td>\n",
       "      <td>0</td>\n",
       "      <td>USD</td>\n",
       "    </tr>\n",
       "    <tr>\n",
       "      <th>Cabiria</th>\n",
       "      <td>1914</td>\n",
       "      <td>148</td>\n",
       "      <td>210000</td>\n",
       "      <td>3073</td>\n",
       "      <td>7.1</td>\n",
       "      <td>4</td>\n",
       "      <td>18</td>\n",
       "      <td>0</td>\n",
       "      <td>1</td>\n",
       "      <td>0</td>\n",
       "      <td>...</td>\n",
       "      <td>0</td>\n",
       "      <td>0</td>\n",
       "      <td>0</td>\n",
       "      <td>0</td>\n",
       "      <td>0</td>\n",
       "      <td>0</td>\n",
       "      <td>0</td>\n",
       "      <td>0</td>\n",
       "      <td>0</td>\n",
       "      <td>USD</td>\n",
       "    </tr>\n",
       "  </tbody>\n",
       "</table>\n",
       "<p>5 rows × 406 columns</p>\n",
       "</div>"
      ],
      "text/plain": [
       "                             year  duration  budget  total_votes  avg_vote  \\\n",
       "original_title                                                               \n",
       "The Story of the Kelly Gang  1906        70    2250          589       6.1   \n",
       "Cleopatra                    1912       100   45000          446       5.2   \n",
       "Richard III                  1912        55   30000          225       5.5   \n",
       "Traffic in Souls             1913        88    5700          552       6.0   \n",
       "Cabiria                      1914       148  210000         3073       7.1   \n",
       "\n",
       "                             month  day  Action  Adventure  Animation  ...  \\\n",
       "original_title                                                         ...   \n",
       "The Story of the Kelly Gang     12   26       0          0          0  ...   \n",
       "Cleopatra                       11   13       0          0          0  ...   \n",
       "Richard III                     10   15       0          0          0  ...   \n",
       "Traffic in Souls                11   24       0          0          0  ...   \n",
       "Cabiria                          4   18       0          1          0  ...   \n",
       "\n",
       "                             Ukraine  United Arab Emirates  Uruguay  \\\n",
       "original_title                                                        \n",
       "The Story of the Kelly Gang        0                     0        0   \n",
       "Cleopatra                          0                     0        0   \n",
       "Richard III                        0                     0        0   \n",
       "Traffic in Souls                   0                     0        0   \n",
       "Cabiria                            0                     0        0   \n",
       "\n",
       "                             Uzbekistan  Venezuela  Vietnam  West Germany  \\\n",
       "original_title                                                              \n",
       "The Story of the Kelly Gang           0          0        0             0   \n",
       "Cleopatra                             0          0        0             0   \n",
       "Richard III                           0          0        0             0   \n",
       "Traffic in Souls                      0          0        0             0   \n",
       "Cabiria                               0          0        0             0   \n",
       "\n",
       "                             Yemen  Yugoslavia  currency  \n",
       "original_title                                            \n",
       "The Story of the Kelly Gang      0           0       USD  \n",
       "Cleopatra                        0           0       USD  \n",
       "Richard III                      0           0       USD  \n",
       "Traffic in Souls                 0           0       USD  \n",
       "Cabiria                          0           0       USD  \n",
       "\n",
       "[5 rows x 406 columns]"
      ]
     },
     "execution_count": 33,
     "metadata": {},
     "output_type": "execute_result"
    }
   ],
   "source": [
    "df.head()"
   ]
  },
  {
   "cell_type": "code",
   "execution_count": 34,
   "metadata": {},
   "outputs": [
    {
     "data": {
      "text/plain": [
       "(22201, 406)"
      ]
     },
     "execution_count": 34,
     "metadata": {},
     "output_type": "execute_result"
    }
   ],
   "source": [
    "df.shape"
   ]
  },
  {
   "cell_type": "code",
   "execution_count": 35,
   "metadata": {},
   "outputs": [],
   "source": [
    "dictionary_of_c ={\"USD\":1,\"AED\":3.67,\"AFN\":90.44,\"ALL\":105.13,\"AMD\":477.45,\"ANG\":1.79,\"AOA\":600.73,\"ARS\":99.63,\"AUD\":1.33,\"AWG\":1.79,\"AZN\":1.7,\"BAM\":1.68,\"BBD\":2,\"BDT\":85.59,\"BGN\":1.68,\"BHD\":0.376,\"BIF\":1985.95,\"BMD\":1,\"BND\":1.35,\"BOB\":6.88,\"BRL\":5.63,\"BSD\":1,\"BTN\":74.87,\"BWP\":11.37,\"BYN\":2.42,\"BZD\":2,\"CAD\":1.23,\"CDF\":1986.27,\"CHF\":0.914,\"CLP\":806.14,\"CNY\":6.4,\"COP\":3787.71,\"CRC\":630.85,\"CUC\":1,\"CUP\":25,\"CVE\":94.84,\"CZK\":22.15,\"DJF\":177.72,\"DKK\":6.42,\"DOP\":56.39,\"DZD\":136.96,\"EGP\":15.7,\"ERN\":15,\"ETB\":47.36,\"EUR\":0.86,\"FJD\":2.06,\"FKP\":0.727,\"FOK\":6.42,\"GBP\":0.727,\"GEL\":3.15,\"GGP\":0.727,\"GHS\":6.08,\"GIP\":0.727,\"GMD\":52.56,\"GNF\":9633.16,\"GTQ\":7.74,\"GYD\":209.24,\"HKD\":7.78,\"HNL\":24.14,\"HRK\":6.48,\"HTG\":99.47,\"HUF\":311.16,\"IDR\":14157.02,\"ILS\":3.17,\"IMP\":0.727,\"INR\":74.87,\"IQD\":1458.93,\"IRR\":41878.05,\"ISK\":128.51,\"JMD\":154.28,\"JOD\":0.709,\"JPY\":113.9,\"KES\":111.13,\"KGS\":84.78,\"KHR\":4072.15,\"KID\":1.33,\"KMF\":423.13,\"KRW\":1171.4,\"KWD\":0.3,\"KYD\":0.833,\"KZT\":427.6,\"LAK\":10210.42,\"LBP\":1507.5,\"LKR\":200.95,\"LRD\":152.07,\"LSL\":15.21,\"LYD\":4.55,\"MAD\":9.05,\"MDL\":17.48,\"MGA\":3977.37,\"MKD\":53.03,\"MMK\":1832.06,\"MNT\":2856.06,\"MOP\":8.01,\"MRU\":36.2,\"MUR\":42.93,\"MVR\":15.41,\"MWK\":814.7,\"MXN\":20.53,\"MYR\":4.14,\"MZN\":64.03,\"NAD\":15.21,\"NGN\":421.53,\"NIO\":35.15,\"NOK\":8.41,\"NPR\":119.8,\"NZD\":1.4,\"OMR\":0.384,\"PAB\":1,\"PEN\":3.99,\"PGK\":3.51,\"PHP\":50.5,\"PKR\":172.01,\"PLN\":3.98,\"PYG\":6868.48,\"QAR\":3.64,\"RON\":4.25,\"RSD\":101.13,\"RUB\":70.67,\"RWF\":1018,\"SAR\":3.75,\"SBD\":7.94,\"SCR\":13.52,\"SDG\":442.05,\"SEK\":8.57,\"SGD\":1.35,\"SHP\":0.727,\"SLL\":10781.83,\"SOS\":578.61,\"SRD\":21.53,\"SSP\":301.48,\"STN\":21.07,\"SYP\":1736.82,\"SZL\":15.21,\"THB\":33.35,\"TJS\":11.24,\"TMT\":3.5,\"TND\":2.82,\"TOP\":2.23,\"TRY\":9.59,\"TTD\":6.77,\"TVD\":1.33,\"TWD\":27.81,\"TZS\":2302.85,\"UAH\":26.29,\"UGX\":3553,\"UYU\":43.58,\"UZS\":10659.34,\"VES\":4.35,\"VND\":22728.13,\"VUV\":109.74,\"WST\":2.53,\"XAF\":564.18,\"XCD\":2.7,\"XDR\":0.705,\"XOF\":564.18,\"XPF\":102.64,\"YER\":250.35,\"ZAR\":15.21,\"ZMW\":17.2}"
   ]
  },
  {
   "cell_type": "markdown",
   "metadata": {},
   "source": [
    "### המרה לדולרים"
   ]
  },
  {
   "cell_type": "code",
   "execution_count": 36,
   "metadata": {},
   "outputs": [],
   "source": [
    "for i in range(df.shape[0]):\n",
    "    df.iloc[i,2] = df.iloc[i,2] * dictionary_of_c[df.iloc[i,405]]\n",
    "    # 2 = האינדקס של התקציב\n",
    "    # 405 = האינדקס של המטבע"
   ]
  },
  {
   "cell_type": "code",
   "execution_count": 37,
   "metadata": {},
   "outputs": [],
   "source": [
    "df = df.drop(['currency'], axis=1)"
   ]
  },
  {
   "cell_type": "markdown",
   "metadata": {},
   "source": [
    "## סיכום:"
   ]
  },
  {
   "cell_type": "code",
   "execution_count": 38,
   "metadata": {},
   "outputs": [
    {
     "data": {
      "text/html": [
       "<div>\n",
       "<style scoped>\n",
       "    .dataframe tbody tr th:only-of-type {\n",
       "        vertical-align: middle;\n",
       "    }\n",
       "\n",
       "    .dataframe tbody tr th {\n",
       "        vertical-align: top;\n",
       "    }\n",
       "\n",
       "    .dataframe thead th {\n",
       "        text-align: right;\n",
       "    }\n",
       "</style>\n",
       "<table border=\"1\" class=\"dataframe\">\n",
       "  <thead>\n",
       "    <tr style=\"text-align: right;\">\n",
       "      <th></th>\n",
       "      <th>year</th>\n",
       "      <th>duration</th>\n",
       "      <th>budget</th>\n",
       "      <th>total_votes</th>\n",
       "      <th>avg_vote</th>\n",
       "      <th>month</th>\n",
       "      <th>day</th>\n",
       "      <th>Action</th>\n",
       "      <th>Adventure</th>\n",
       "      <th>Animation</th>\n",
       "      <th>...</th>\n",
       "      <th>Uganda</th>\n",
       "      <th>Ukraine</th>\n",
       "      <th>United Arab Emirates</th>\n",
       "      <th>Uruguay</th>\n",
       "      <th>Uzbekistan</th>\n",
       "      <th>Venezuela</th>\n",
       "      <th>Vietnam</th>\n",
       "      <th>West Germany</th>\n",
       "      <th>Yemen</th>\n",
       "      <th>Yugoslavia</th>\n",
       "    </tr>\n",
       "    <tr>\n",
       "      <th>original_title</th>\n",
       "      <th></th>\n",
       "      <th></th>\n",
       "      <th></th>\n",
       "      <th></th>\n",
       "      <th></th>\n",
       "      <th></th>\n",
       "      <th></th>\n",
       "      <th></th>\n",
       "      <th></th>\n",
       "      <th></th>\n",
       "      <th></th>\n",
       "      <th></th>\n",
       "      <th></th>\n",
       "      <th></th>\n",
       "      <th></th>\n",
       "      <th></th>\n",
       "      <th></th>\n",
       "      <th></th>\n",
       "      <th></th>\n",
       "      <th></th>\n",
       "      <th></th>\n",
       "    </tr>\n",
       "  </thead>\n",
       "  <tbody>\n",
       "    <tr>\n",
       "      <th>The Story of the Kelly Gang</th>\n",
       "      <td>1906</td>\n",
       "      <td>70</td>\n",
       "      <td>2250.0</td>\n",
       "      <td>589</td>\n",
       "      <td>6.1</td>\n",
       "      <td>12</td>\n",
       "      <td>26</td>\n",
       "      <td>0</td>\n",
       "      <td>0</td>\n",
       "      <td>0</td>\n",
       "      <td>...</td>\n",
       "      <td>0</td>\n",
       "      <td>0</td>\n",
       "      <td>0</td>\n",
       "      <td>0</td>\n",
       "      <td>0</td>\n",
       "      <td>0</td>\n",
       "      <td>0</td>\n",
       "      <td>0</td>\n",
       "      <td>0</td>\n",
       "      <td>0</td>\n",
       "    </tr>\n",
       "    <tr>\n",
       "      <th>Cleopatra</th>\n",
       "      <td>1912</td>\n",
       "      <td>100</td>\n",
       "      <td>45000.0</td>\n",
       "      <td>446</td>\n",
       "      <td>5.2</td>\n",
       "      <td>11</td>\n",
       "      <td>13</td>\n",
       "      <td>0</td>\n",
       "      <td>0</td>\n",
       "      <td>0</td>\n",
       "      <td>...</td>\n",
       "      <td>0</td>\n",
       "      <td>0</td>\n",
       "      <td>0</td>\n",
       "      <td>0</td>\n",
       "      <td>0</td>\n",
       "      <td>0</td>\n",
       "      <td>0</td>\n",
       "      <td>0</td>\n",
       "      <td>0</td>\n",
       "      <td>0</td>\n",
       "    </tr>\n",
       "    <tr>\n",
       "      <th>Richard III</th>\n",
       "      <td>1912</td>\n",
       "      <td>55</td>\n",
       "      <td>30000.0</td>\n",
       "      <td>225</td>\n",
       "      <td>5.5</td>\n",
       "      <td>10</td>\n",
       "      <td>15</td>\n",
       "      <td>0</td>\n",
       "      <td>0</td>\n",
       "      <td>0</td>\n",
       "      <td>...</td>\n",
       "      <td>0</td>\n",
       "      <td>0</td>\n",
       "      <td>0</td>\n",
       "      <td>0</td>\n",
       "      <td>0</td>\n",
       "      <td>0</td>\n",
       "      <td>0</td>\n",
       "      <td>0</td>\n",
       "      <td>0</td>\n",
       "      <td>0</td>\n",
       "    </tr>\n",
       "    <tr>\n",
       "      <th>Traffic in Souls</th>\n",
       "      <td>1913</td>\n",
       "      <td>88</td>\n",
       "      <td>5700.0</td>\n",
       "      <td>552</td>\n",
       "      <td>6.0</td>\n",
       "      <td>11</td>\n",
       "      <td>24</td>\n",
       "      <td>0</td>\n",
       "      <td>0</td>\n",
       "      <td>0</td>\n",
       "      <td>...</td>\n",
       "      <td>0</td>\n",
       "      <td>0</td>\n",
       "      <td>0</td>\n",
       "      <td>0</td>\n",
       "      <td>0</td>\n",
       "      <td>0</td>\n",
       "      <td>0</td>\n",
       "      <td>0</td>\n",
       "      <td>0</td>\n",
       "      <td>0</td>\n",
       "    </tr>\n",
       "    <tr>\n",
       "      <th>Cabiria</th>\n",
       "      <td>1914</td>\n",
       "      <td>148</td>\n",
       "      <td>210000.0</td>\n",
       "      <td>3073</td>\n",
       "      <td>7.1</td>\n",
       "      <td>4</td>\n",
       "      <td>18</td>\n",
       "      <td>0</td>\n",
       "      <td>1</td>\n",
       "      <td>0</td>\n",
       "      <td>...</td>\n",
       "      <td>0</td>\n",
       "      <td>0</td>\n",
       "      <td>0</td>\n",
       "      <td>0</td>\n",
       "      <td>0</td>\n",
       "      <td>0</td>\n",
       "      <td>0</td>\n",
       "      <td>0</td>\n",
       "      <td>0</td>\n",
       "      <td>0</td>\n",
       "    </tr>\n",
       "  </tbody>\n",
       "</table>\n",
       "<p>5 rows × 405 columns</p>\n",
       "</div>"
      ],
      "text/plain": [
       "                             year  duration    budget  total_votes  avg_vote  \\\n",
       "original_title                                                                 \n",
       "The Story of the Kelly Gang  1906        70    2250.0          589       6.1   \n",
       "Cleopatra                    1912       100   45000.0          446       5.2   \n",
       "Richard III                  1912        55   30000.0          225       5.5   \n",
       "Traffic in Souls             1913        88    5700.0          552       6.0   \n",
       "Cabiria                      1914       148  210000.0         3073       7.1   \n",
       "\n",
       "                             month  day  Action  Adventure  Animation  ...  \\\n",
       "original_title                                                         ...   \n",
       "The Story of the Kelly Gang     12   26       0          0          0  ...   \n",
       "Cleopatra                       11   13       0          0          0  ...   \n",
       "Richard III                     10   15       0          0          0  ...   \n",
       "Traffic in Souls                11   24       0          0          0  ...   \n",
       "Cabiria                          4   18       0          1          0  ...   \n",
       "\n",
       "                             Uganda  Ukraine  United Arab Emirates  Uruguay  \\\n",
       "original_title                                                                \n",
       "The Story of the Kelly Gang       0        0                     0        0   \n",
       "Cleopatra                         0        0                     0        0   \n",
       "Richard III                       0        0                     0        0   \n",
       "Traffic in Souls                  0        0                     0        0   \n",
       "Cabiria                           0        0                     0        0   \n",
       "\n",
       "                             Uzbekistan  Venezuela  Vietnam  West Germany  \\\n",
       "original_title                                                              \n",
       "The Story of the Kelly Gang           0          0        0             0   \n",
       "Cleopatra                             0          0        0             0   \n",
       "Richard III                           0          0        0             0   \n",
       "Traffic in Souls                      0          0        0             0   \n",
       "Cabiria                               0          0        0             0   \n",
       "\n",
       "                             Yemen  Yugoslavia  \n",
       "original_title                                  \n",
       "The Story of the Kelly Gang      0           0  \n",
       "Cleopatra                        0           0  \n",
       "Richard III                      0           0  \n",
       "Traffic in Souls                 0           0  \n",
       "Cabiria                          0           0  \n",
       "\n",
       "[5 rows x 405 columns]"
      ]
     },
     "execution_count": 38,
     "metadata": {},
     "output_type": "execute_result"
    }
   ],
   "source": [
    "df.head()"
   ]
  },
  {
   "cell_type": "markdown",
   "metadata": {},
   "source": [
    "# חקירה מעמיקה של הנתונים והקשרים ביניהם"
   ]
  },
  {
   "cell_type": "markdown",
   "metadata": {},
   "source": [
    "## התפלגות הסרטים על פי דירוג"
   ]
  },
  {
   "cell_type": "code",
   "execution_count": 39,
   "metadata": {},
   "outputs": [
    {
     "data": {
      "image/png": "[encoded data removed]",
      "text/plain": [
       "<Figure size 1080x864 with 1 Axes>"
      ]
     },
     "metadata": {
      "needs_background": "light"
     },
     "output_type": "display_data"
    }
   ],
   "source": [
    "df['rounded_votes'] = df['avg_vote']//1\n",
    "plt.figure(figsize=(15,12))\n",
    "sns.set(style=\"darkgrid\")\n",
    "ax = sns.countplot(x=\"rounded_votes\", data=df, palette=\"Set2\" )\n",
    "df = df.drop('rounded_votes',axis = 1)"
   ]
  },
  {
   "cell_type": "markdown",
   "metadata": {},
   "source": [
    "## התפלגות הסרטים לפי שנת הוצאה "
   ]
  },
  {
   "cell_type": "code",
   "execution_count": 40,
   "metadata": {},
   "outputs": [],
   "source": [
    "df['decade'] = df['year']//10 * 10"
   ]
  },
  {
   "cell_type": "code",
   "execution_count": 41,
   "metadata": {},
   "outputs": [
    {
     "data": {
      "image/png": "[encoded data removed]",
      "text/plain": [
       "<Figure size 1080x864 with 1 Axes>"
      ]
     },
     "metadata": {},
     "output_type": "display_data"
    }
   ],
   "source": [
    "\n",
    "plt.figure(figsize=(15,12))\n",
    "sns.set(style=\"darkgrid\")\n",
    "ax = sns.countplot(x=\"decade\", data=df, palette=\"Set2\" )\n"
   ]
  },
  {
   "cell_type": "code",
   "execution_count": 42,
   "metadata": {},
   "outputs": [],
   "source": [
    "df = df.drop('decade', axis =1)"
   ]
  },
  {
   "cell_type": "code",
   "execution_count": 43,
   "metadata": {},
   "outputs": [
    {
     "data": {
      "text/html": [
       "<div>\n",
       "<style scoped>\n",
       "    .dataframe tbody tr th:only-of-type {\n",
       "        vertical-align: middle;\n",
       "    }\n",
       "\n",
       "    .dataframe tbody tr th {\n",
       "        vertical-align: top;\n",
       "    }\n",
       "\n",
       "    .dataframe thead th {\n",
       "        text-align: right;\n",
       "    }\n",
       "</style>\n",
       "<table border=\"1\" class=\"dataframe\">\n",
       "  <thead>\n",
       "    <tr style=\"text-align: right;\">\n",
       "      <th></th>\n",
       "      <th>duration</th>\n",
       "      <th>budget</th>\n",
       "      <th>total_votes</th>\n",
       "      <th>day</th>\n",
       "      <th>month</th>\n",
       "      <th>year</th>\n",
       "      <th>avg_vote</th>\n",
       "    </tr>\n",
       "    <tr>\n",
       "      <th>original_title</th>\n",
       "      <th></th>\n",
       "      <th></th>\n",
       "      <th></th>\n",
       "      <th></th>\n",
       "      <th></th>\n",
       "      <th></th>\n",
       "      <th></th>\n",
       "    </tr>\n",
       "  </thead>\n",
       "  <tbody>\n",
       "    <tr>\n",
       "      <th>The Story of the Kelly Gang</th>\n",
       "      <td>70</td>\n",
       "      <td>2.250000e+03</td>\n",
       "      <td>589</td>\n",
       "      <td>26</td>\n",
       "      <td>12</td>\n",
       "      <td>1906</td>\n",
       "      <td>6.1</td>\n",
       "    </tr>\n",
       "    <tr>\n",
       "      <th>Cleopatra</th>\n",
       "      <td>100</td>\n",
       "      <td>4.500000e+04</td>\n",
       "      <td>446</td>\n",
       "      <td>13</td>\n",
       "      <td>11</td>\n",
       "      <td>1912</td>\n",
       "      <td>5.2</td>\n",
       "    </tr>\n",
       "    <tr>\n",
       "      <th>Richard III</th>\n",
       "      <td>55</td>\n",
       "      <td>3.000000e+04</td>\n",
       "      <td>225</td>\n",
       "      <td>15</td>\n",
       "      <td>10</td>\n",
       "      <td>1912</td>\n",
       "      <td>5.5</td>\n",
       "    </tr>\n",
       "    <tr>\n",
       "      <th>Traffic in Souls</th>\n",
       "      <td>88</td>\n",
       "      <td>5.700000e+03</td>\n",
       "      <td>552</td>\n",
       "      <td>24</td>\n",
       "      <td>11</td>\n",
       "      <td>1913</td>\n",
       "      <td>6.0</td>\n",
       "    </tr>\n",
       "    <tr>\n",
       "      <th>Cabiria</th>\n",
       "      <td>148</td>\n",
       "      <td>2.100000e+05</td>\n",
       "      <td>3073</td>\n",
       "      <td>18</td>\n",
       "      <td>4</td>\n",
       "      <td>1914</td>\n",
       "      <td>7.1</td>\n",
       "    </tr>\n",
       "    <tr>\n",
       "      <th>...</th>\n",
       "      <td>...</td>\n",
       "      <td>...</td>\n",
       "      <td>...</td>\n",
       "      <td>...</td>\n",
       "      <td>...</td>\n",
       "      <td>...</td>\n",
       "      <td>...</td>\n",
       "    </tr>\n",
       "    <tr>\n",
       "      <th>No Dorai</th>\n",
       "      <td>150</td>\n",
       "      <td>1.250000e+06</td>\n",
       "      <td>296</td>\n",
       "      <td>29</td>\n",
       "      <td>11</td>\n",
       "      <td>2019</td>\n",
       "      <td>7.2</td>\n",
       "    </tr>\n",
       "    <tr>\n",
       "      <th>Upin &amp; Ipin: Keris Siamang Tunggal</th>\n",
       "      <td>100</td>\n",
       "      <td>8.280000e+07</td>\n",
       "      <td>440</td>\n",
       "      <td>21</td>\n",
       "      <td>3</td>\n",
       "      <td>2019</td>\n",
       "      <td>7.9</td>\n",
       "    </tr>\n",
       "    <tr>\n",
       "      <th>Kaithi</th>\n",
       "      <td>145</td>\n",
       "      <td>1.796880e+10</td>\n",
       "      <td>8400</td>\n",
       "      <td>25</td>\n",
       "      <td>10</td>\n",
       "      <td>2019</td>\n",
       "      <td>8.5</td>\n",
       "    </tr>\n",
       "    <tr>\n",
       "      <th>Ottam</th>\n",
       "      <td>120</td>\n",
       "      <td>2.994800e+08</td>\n",
       "      <td>494</td>\n",
       "      <td>8</td>\n",
       "      <td>3</td>\n",
       "      <td>2019</td>\n",
       "      <td>7.4</td>\n",
       "    </tr>\n",
       "    <tr>\n",
       "      <th>Pengalila</th>\n",
       "      <td>111</td>\n",
       "      <td>7.487000e+08</td>\n",
       "      <td>553</td>\n",
       "      <td>8</td>\n",
       "      <td>3</td>\n",
       "      <td>2019</td>\n",
       "      <td>8.8</td>\n",
       "    </tr>\n",
       "  </tbody>\n",
       "</table>\n",
       "<p>22201 rows × 7 columns</p>\n",
       "</div>"
      ],
      "text/plain": [
       "                                    duration        budget  total_votes  day  \\\n",
       "original_title                                                                 \n",
       "The Story of the Kelly Gang               70  2.250000e+03          589   26   \n",
       "Cleopatra                                100  4.500000e+04          446   13   \n",
       "Richard III                               55  3.000000e+04          225   15   \n",
       "Traffic in Souls                          88  5.700000e+03          552   24   \n",
       "Cabiria                                  148  2.100000e+05         3073   18   \n",
       "...                                      ...           ...          ...  ...   \n",
       "No Dorai                                 150  1.250000e+06          296   29   \n",
       "Upin & Ipin: Keris Siamang Tunggal       100  8.280000e+07          440   21   \n",
       "Kaithi                                   145  1.796880e+10         8400   25   \n",
       "Ottam                                    120  2.994800e+08          494    8   \n",
       "Pengalila                                111  7.487000e+08          553    8   \n",
       "\n",
       "                                    month  year  avg_vote  \n",
       "original_title                                             \n",
       "The Story of the Kelly Gang            12  1906       6.1  \n",
       "Cleopatra                              11  1912       5.2  \n",
       "Richard III                            10  1912       5.5  \n",
       "Traffic in Souls                       11  1913       6.0  \n",
       "Cabiria                                 4  1914       7.1  \n",
       "...                                   ...   ...       ...  \n",
       "No Dorai                               11  2019       7.2  \n",
       "Upin & Ipin: Keris Siamang Tunggal      3  2019       7.9  \n",
       "Kaithi                                 10  2019       8.5  \n",
       "Ottam                                   3  2019       7.4  \n",
       "Pengalila                               3  2019       8.8  \n",
       "\n",
       "[22201 rows x 7 columns]"
      ]
     },
     "execution_count": 43,
     "metadata": {},
     "output_type": "execute_result"
    }
   ],
   "source": [
    "newdf = df[['duration', 'budget', 'total_votes', 'day', 'month', 'year', 'avg_vote']]\n",
    "newdf"
   ]
  },
  {
   "cell_type": "code",
   "execution_count": 44,
   "metadata": {},
   "outputs": [
    {
     "data": {
      "image/png": "[encoded data removed]",
      "text/plain": [
       "<Figure size 1152x864 with 2 Axes>"
      ]
     },
     "metadata": {},
     "output_type": "display_data"
    }
   ],
   "source": [
    "plt.figure(figsize=(16,12))\n",
    "plt.title('Correlation Heatmap of IMDb Dataset')\n",
    "ax = sns.heatmap(newdf.corr(), square=True, annot=True)\n",
    "ax.set_xticklabels(ax.get_xticklabels(), rotation=90)\n",
    "ax.set_yticklabels(ax.get_yticklabels(), rotation=30)           \n",
    "plt.show()\n"
   ]
  },
  {
   "cell_type": "markdown",
   "metadata": {},
   "source": [
    "# feature engineering:"
   ]
  },
  {
   "cell_type": "code",
   "execution_count": 45,
   "metadata": {},
   "outputs": [],
   "source": [
    "import tensorflow as tf\n",
    "from sklearn.model_selection import train_test_split\n",
    "\n",
    "from tensorflow import keras\n",
    "from tensorflow.keras import layers\n",
    "from tensorflow.keras import Sequential\n",
    "from tensorflow.keras.layers import Dense, Dropout\n",
    "from keras import regularizers\n"
   ]
  },
  {
   "cell_type": "code",
   "execution_count": 46,
   "metadata": {},
   "outputs": [],
   "source": [
    "target = df['avg_vote']\n",
    "df = df.drop(columns=['avg_vote'])"
   ]
  },
  {
   "cell_type": "code",
   "execution_count": 47,
   "metadata": {},
   "outputs": [
    {
     "name": "stdout",
     "output_type": "stream",
     "text": [
      "(19980, 404) (2221, 404) (19980,) (2221,)\n"
     ]
    }
   ],
   "source": [
    "X_train, X_test, y_train, y_test = train_test_split(df, target, test_size=0.1, shuffle=True)\n",
    "print(X_train.shape, X_test.shape, y_train.shape, y_test.shape)"
   ]
  },
  {
   "cell_type": "code",
   "execution_count": 48,
   "metadata": {},
   "outputs": [],
   "source": [
    "for k in [X_train, X_test]:\n",
    "    for i in k:\n",
    "        if i in ['duration','budget','total_votes','day','month','year']:\n",
    "            k[i] = (k[i] - k[i].min())/(k[i].max()- k[i].min())"
   ]
  },
  {
   "cell_type": "code",
   "execution_count": 49,
   "metadata": {},
   "outputs": [],
   "source": [
    "y_train = y_train/10\n",
    "y_test = y_test/10"
   ]
  },
  {
   "cell_type": "code",
   "execution_count": 50,
   "metadata": {},
   "outputs": [
    {
     "data": {
      "text/plain": [
       "original_title\n",
       "El olivo                   0.68\n",
       "Ed Mort                    0.61\n",
       "Sweet Smell of Success     0.81\n",
       "Repo! The Genetic Opera    0.66\n",
       "Black Widow                0.67\n",
       "Name: avg_vote, dtype: float64"
      ]
     },
     "execution_count": 50,
     "metadata": {},
     "output_type": "execute_result"
    }
   ],
   "source": [
    "y_test.head()"
   ]
  },
  {
   "cell_type": "code",
   "execution_count": 51,
   "metadata": {},
   "outputs": [],
   "source": [
    "n_features = X_train.shape[1]"
   ]
  },
  {
   "cell_type": "markdown",
   "metadata": {},
   "source": [
    "## מודל:"
   ]
  },
  {
   "cell_type": "code",
   "execution_count": 95,
   "metadata": {},
   "outputs": [],
   "source": [
    "model = Sequential()\n",
    "model.add(Dense(800, activation='relu', input_shape=(n_features,)))\n",
    "model.add(Dropout(0.15))\n",
    "\n",
    "model.add(Dense(400, activation='relu', kernel_regularizer=regularizers.l2(0.1)))\n",
    "model.add(Dropout(0.1))\n",
    "\n",
    "model.add(Dense(200, activation='relu', kernel_regularizer=regularizers.l2(0.1)))\n",
    "model.add(Dropout(0.1))\n",
    "\n",
    "\n",
    "model.add(Dense(150, activation='relu'))\n",
    "model.add(Dropout(0.1))\n",
    "\n",
    "model.add(Dense(1))"
   ]
  },
  {
   "cell_type": "code",
   "execution_count": 96,
   "metadata": {},
   "outputs": [],
   "source": [
    "from keras import backend as K\n",
    "\n",
    "def coeff_determination(y_true, y_pred):\n",
    "    from keras import backend as K\n",
    "    SS_res =  K.sum(K.square( y_true-y_pred ))\n",
    "    SS_tot = K.sum(K.square( y_true - K.mean(y_true) ) )\n",
    "    return ( 1 - SS_res/(SS_tot + K.epsilon()) )"
   ]
  },
  {
   "cell_type": "code",
   "execution_count": 97,
   "metadata": {},
   "outputs": [],
   "source": [
    "model.compile(optimizer='adam', loss='mse', metrics=[coeff_determination])"
   ]
  },
  {
   "cell_type": "code",
   "execution_count": 98,
   "metadata": {
    "scrolled": true
   },
   "outputs": [
    {
     "name": "stdout",
     "output_type": "stream",
     "text": [
      "Epoch 1/50\n",
      "40/40 - 3s - loss: 39.4061 - coeff_determination: -1.2045e+00 - 3s/epoch - 78ms/step\n",
      "Epoch 2/50\n",
      "40/40 - 2s - loss: 5.6116 - coeff_determination: 0.1200 - 2s/epoch - 48ms/step\n",
      "Epoch 3/50\n",
      "40/40 - 2s - loss: 0.6561 - coeff_determination: 0.0767 - 2s/epoch - 49ms/step\n",
      "Epoch 4/50\n",
      "40/40 - 2s - loss: 0.0842 - coeff_determination: 0.0486 - 2s/epoch - 48ms/step\n",
      "Epoch 5/50\n",
      "40/40 - 2s - loss: 0.0226 - coeff_determination: 0.0711 - 2s/epoch - 48ms/step\n",
      "Epoch 6/50\n",
      "40/40 - 2s - loss: 0.0169 - coeff_determination: 0.1307 - 2s/epoch - 48ms/step\n",
      "Epoch 7/50\n",
      "40/40 - 2s - loss: 0.0160 - coeff_determination: 0.1580 - 2s/epoch - 49ms/step\n",
      "Epoch 8/50\n",
      "40/40 - 2s - loss: 0.0155 - coeff_determination: 0.1773 - 2s/epoch - 48ms/step\n",
      "Epoch 9/50\n",
      "40/40 - 2s - loss: 0.0154 - coeff_determination: 0.1802 - 2s/epoch - 49ms/step\n",
      "Epoch 10/50\n",
      "40/40 - 1s - loss: 0.0148 - coeff_determination: 0.2099 - 1s/epoch - 31ms/step\n",
      "Epoch 11/50\n",
      "40/40 - 2s - loss: 0.0148 - coeff_determination: 0.2072 - 2s/epoch - 45ms/step\n",
      "Epoch 12/50\n",
      "40/40 - 2s - loss: 0.0144 - coeff_determination: 0.2261 - 2s/epoch - 48ms/step\n",
      "Epoch 13/50\n",
      "40/40 - 2s - loss: 0.0143 - coeff_determination: 0.2270 - 2s/epoch - 48ms/step\n",
      "Epoch 14/50\n",
      "40/40 - 2s - loss: 0.0144 - coeff_determination: 0.2229 - 2s/epoch - 48ms/step\n",
      "Epoch 15/50\n",
      "40/40 - 2s - loss: 0.0140 - coeff_determination: 0.2422 - 2s/epoch - 50ms/step\n",
      "Epoch 16/50\n",
      "40/40 - 2s - loss: 0.0138 - coeff_determination: 0.2534 - 2s/epoch - 48ms/step\n",
      "Epoch 17/50\n",
      "40/40 - 2s - loss: 0.0141 - coeff_determination: 0.2360 - 2s/epoch - 48ms/step\n",
      "Epoch 18/50\n",
      "40/40 - 2s - loss: 0.0138 - coeff_determination: 0.2508 - 2s/epoch - 48ms/step\n",
      "Epoch 19/50\n",
      "40/40 - 2s - loss: 0.0138 - coeff_determination: 0.2548 - 2s/epoch - 48ms/step\n",
      "Epoch 20/50\n",
      "40/40 - 2s - loss: 0.0135 - coeff_determination: 0.2681 - 2s/epoch - 47ms/step\n",
      "Epoch 21/50\n",
      "40/40 - 2s - loss: 0.0134 - coeff_determination: 0.2748 - 2s/epoch - 48ms/step\n",
      "Epoch 22/50\n",
      "40/40 - 2s - loss: 0.0138 - coeff_determination: 0.2568 - 2s/epoch - 48ms/step\n",
      "Epoch 23/50\n",
      "40/40 - 2s - loss: 0.0132 - coeff_determination: 0.2873 - 2s/epoch - 48ms/step\n",
      "Epoch 24/50\n",
      "40/40 - 2s - loss: 0.0131 - coeff_determination: 0.2936 - 2s/epoch - 49ms/step\n",
      "Epoch 25/50\n",
      "40/40 - 2s - loss: 0.0131 - coeff_determination: 0.2948 - 2s/epoch - 48ms/step\n",
      "Epoch 26/50\n",
      "40/40 - 2s - loss: 0.0130 - coeff_determination: 0.3004 - 2s/epoch - 49ms/step\n",
      "Epoch 27/50\n",
      "40/40 - 2s - loss: 0.0130 - coeff_determination: 0.3005 - 2s/epoch - 48ms/step\n",
      "Epoch 28/50\n",
      "40/40 - 2s - loss: 0.0127 - coeff_determination: 0.3202 - 2s/epoch - 48ms/step\n",
      "Epoch 29/50\n",
      "40/40 - 2s - loss: 0.0129 - coeff_determination: 0.3105 - 2s/epoch - 48ms/step\n",
      "Epoch 30/50\n",
      "40/40 - 2s - loss: 0.0126 - coeff_determination: 0.3282 - 2s/epoch - 46ms/step\n",
      "Epoch 31/50\n",
      "40/40 - 2s - loss: 0.0124 - coeff_determination: 0.3418 - 2s/epoch - 48ms/step\n",
      "Epoch 32/50\n",
      "40/40 - 2s - loss: 0.0123 - coeff_determination: 0.3420 - 2s/epoch - 48ms/step\n",
      "Epoch 33/50\n",
      "40/40 - 2s - loss: 0.0123 - coeff_determination: 0.3454 - 2s/epoch - 48ms/step\n",
      "Epoch 34/50\n",
      "40/40 - 2s - loss: 0.0126 - coeff_determination: 0.3291 - 2s/epoch - 48ms/step\n",
      "Epoch 35/50\n",
      "40/40 - 2s - loss: 0.0126 - coeff_determination: 0.3308 - 2s/epoch - 48ms/step\n",
      "Epoch 36/50\n",
      "40/40 - 2s - loss: 0.0123 - coeff_determination: 0.3450 - 2s/epoch - 49ms/step\n",
      "Epoch 37/50\n",
      "40/40 - 2s - loss: 0.0123 - coeff_determination: 0.3466 - 2s/epoch - 48ms/step\n",
      "Epoch 38/50\n",
      "40/40 - 2s - loss: 0.0121 - coeff_determination: 0.3550 - 2s/epoch - 48ms/step\n",
      "Epoch 39/50\n",
      "40/40 - 2s - loss: 0.0119 - coeff_determination: 0.3698 - 2s/epoch - 48ms/step\n",
      "Epoch 40/50\n",
      "40/40 - 2s - loss: 0.0121 - coeff_determination: 0.3586 - 2s/epoch - 48ms/step\n",
      "Epoch 41/50\n",
      "40/40 - 2s - loss: 0.0118 - coeff_determination: 0.3742 - 2s/epoch - 48ms/step\n",
      "Epoch 42/50\n",
      "40/40 - 2s - loss: 0.0123 - coeff_determination: 0.3487 - 2s/epoch - 47ms/step\n",
      "Epoch 43/50\n",
      "40/40 - 2s - loss: 0.0118 - coeff_determination: 0.3731 - 2s/epoch - 47ms/step\n",
      "Epoch 44/50\n",
      "40/40 - 2s - loss: 0.0118 - coeff_determination: 0.3781 - 2s/epoch - 48ms/step\n",
      "Epoch 45/50\n",
      "40/40 - 2s - loss: 0.0115 - coeff_determination: 0.3945 - 2s/epoch - 48ms/step\n",
      "Epoch 46/50\n",
      "40/40 - 2s - loss: 0.0113 - coeff_determination: 0.4041 - 2s/epoch - 47ms/step\n",
      "Epoch 47/50\n",
      "40/40 - 2s - loss: 0.0113 - coeff_determination: 0.4082 - 2s/epoch - 48ms/step\n",
      "Epoch 48/50\n",
      "40/40 - 2s - loss: 0.0119 - coeff_determination: 0.3717 - 2s/epoch - 48ms/step\n",
      "Epoch 49/50\n",
      "40/40 - 2s - loss: 0.0112 - coeff_determination: 0.4115 - 2s/epoch - 48ms/step\n",
      "Epoch 50/50\n",
      "40/40 - 2s - loss: 0.0116 - coeff_determination: 0.3856 - 2s/epoch - 48ms/step\n"
     ]
    },
    {
     "data": {
      "text/plain": [
       "<keras.callbacks.History at 0x2c480ef00a0>"
      ]
     },
     "execution_count": 98,
     "metadata": {},
     "output_type": "execute_result"
    }
   ],
   "source": [
    "model.fit(X_train, y_train, epochs=50, batch_size=500, verbose=2)"
   ]
  },
  {
   "cell_type": "code",
   "execution_count": 99,
   "metadata": {},
   "outputs": [
    {
     "name": "stdout",
     "output_type": "stream",
     "text": [
      "70/70 [==============================] - 1s 6ms/step - loss: 0.0144 - coeff_determination: 0.2021\n"
     ]
    },
    {
     "data": {
      "text/plain": [
       "0.20212365686893463"
      ]
     },
     "execution_count": 99,
     "metadata": {},
     "output_type": "execute_result"
    }
   ],
   "source": [
    "loss, acc = model.evaluate(X_test, y_test)\n",
    "acc"
   ]
  },
  {
   "cell_type": "code",
   "execution_count": null,
   "metadata": {},
   "outputs": [],
   "source": []
  }
 ],
 "metadata": {
  "kernelspec": {
   "display_name": "Python 3",
   "language": "python",
   "name": "python3"
  },
  "language_info": {
   "codemirror_mode": {
    "name": "ipython",
    "version": 3
   },
   "file_extension": ".py",
   "mimetype": "text/x-python",
   "name": "python",
   "nbconvert_exporter": "python",
   "pygments_lexer": "ipython3",
   "version": "3.8.6"
  }
 },
 "nbformat": 4,
 "nbformat_minor": 4
}
